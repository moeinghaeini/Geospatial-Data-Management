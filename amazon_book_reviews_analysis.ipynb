{
  "cells": [
    {
      "cell_type": "markdown",
      "metadata": {
        "id": "view-in-github",
        "colab_type": "text"
      },
      "source": [
        "<a href=\"https://colab.research.google.com/github/moeinghaeini/Geospatial-Data-Management/blob/main/amazon_book_reviews_analysis.ipynb\" target=\"_parent\"><img src=\"https://colab.research.google.com/assets/colab-badge.svg\" alt=\"Open In Colab\"/></a>"
      ]
    },
    {
      "cell_type": "markdown",
      "metadata": {
        "id": "QsKgXxXRvbnr"
      },
      "source": [
        "# Amazon Book Reviews Analysis\n",
        "\n",
        "This notebook combines all steps of the project: data download, preprocessing, feature extraction, and similarity analysis using Spark."
      ]
    },
    {
      "cell_type": "markdown",
      "metadata": {
        "id": "FZZI_fV6vbns"
      },
      "source": [
        "## 1. Setup & Dependencies\n",
        "Install and import required libraries."
      ]
    },
    {
      "cell_type": "code",
      "execution_count": 4,
      "metadata": {
        "colab": {
          "base_uri": "https://localhost:8080/"
        },
        "id": "YEfi5DOqvbns",
        "outputId": "247e91bb-54dd-419e-afb5-e0e4bda24611"
      },
      "outputs": [
        {
          "output_type": "stream",
          "name": "stdout",
          "text": [
            "All libraries imported.\n"
          ]
        }
      ],
      "source": [
        "# If running on Colab or a new environment, uncomment and run these:\n",
        "# !pip install kagglehub pyspark matplotlib\n",
        "import os\n",
        "import matplotlib.pyplot as plt\n",
        "import numpy as np\n",
        "import pyspark\n",
        "print(\"All libraries imported.\")"
      ]
    },
    {
      "cell_type": "markdown",
      "metadata": {
        "id": "MJ75gCq0vbnt"
      },
      "source": [
        "## 2. Download Dataset\n",
        "Download the Amazon Books Reviews dataset using kagglehub."
      ]
    },
    {
      "cell_type": "code",
      "execution_count": 5,
      "metadata": {
        "colab": {
          "base_uri": "https://localhost:8080/"
        },
        "id": "QqL1nfEKvbnt",
        "outputId": "e6cdcb02-210c-432e-e594-902cb32a8861"
      },
      "outputs": [
        {
          "output_type": "stream",
          "name": "stdout",
          "text": [
            "Starting dataset download...\n",
            "Dataset downloaded to: /kaggle/input/amazon-books-reviews\n",
            "\n",
            "Files in the dataset directory:\n",
            "/kaggle/input/amazon-books-reviews/books_data.csv\n",
            "/kaggle/input/amazon-books-reviews/Books_rating.csv\n",
            "\n",
            "Successfully found: /kaggle/input/amazon-books-reviews/Books_rating.csv\n"
          ]
        }
      ],
      "source": [
        "import kagglehub\n",
        "print(\"Starting dataset download...\")\n",
        "path = kagglehub.dataset_download(\"mohamedbakhet/amazon-books-reviews\")\n",
        "print(f'Dataset downloaded to: {path}')\n",
        "# List files in the downloaded path\n",
        "import os\n",
        "print(\"\\nFiles in the dataset directory:\")\n",
        "if os.path.exists(path) and os.path.isdir(path):\n",
        "    for item in os.listdir(path):\n",
        "        print(os.path.join(path, item))\n",
        "else:\n",
        "    print(f'Error: Downloaded path {path} does not exist or is not a directory.')\n",
        "# Specifically check for Books_rating.csv\n",
        "expected_file = os.path.join(path, \"Books_rating.csv\")\n",
        "if os.path.exists(expected_file):\n",
        "    print(f\"\\nSuccessfully found: {expected_file}\")\n",
        "else:\n",
        "    print(f\"\\nError: Books_rating.csv not found in {path}\")"
      ]
    },
    {
      "cell_type": "markdown",
      "metadata": {
        "id": "myy75xawvbnt"
      },
      "source": [
        "## 3. Initialize Spark\n",
        "Set up Spark session for distributed processing."
      ]
    },
    {
      "cell_type": "code",
      "execution_count": 6,
      "metadata": {
        "id": "JZleWKWivbnu",
        "colab": {
          "base_uri": "https://localhost:8080/"
        },
        "outputId": "7c3e55b5-1471-4ad9-920a-138a023dc071"
      },
      "outputs": [
        {
          "output_type": "stream",
          "name": "stdout",
          "text": [
            "SparkSession initialized successfully.\n",
            "Spark version: 3.5.1\n",
            "SparkContext available. Application ID: local-1751840227654\n"
          ]
        }
      ],
      "source": [
        "from pyspark.sql import SparkSession\n",
        "try:\n",
        "    spark = SparkSession.builder.appName(\"BookReviewSimilarity\").getOrCreate()\n",
        "    print(\"SparkSession initialized successfully.\")\n",
        "    print(f\"Spark version: {spark.version}\")\n",
        "    sc = spark.sparkContext\n",
        "    print(f\"SparkContext available. Application ID: {sc.applicationId}\")\n",
        "except Exception as e:\n",
        "    print(f\"Error initializing Spark: {e}\")"
      ]
    },
    {
      "cell_type": "markdown",
      "metadata": {
        "id": "YLWclD38vbnu"
      },
      "source": [
        "## 4. Load Data\n",
        "Load the dataset and explore its structure."
      ]
    },
    {
      "cell_type": "code",
      "execution_count": 7,
      "metadata": {
        "id": "9NERrwuavbnu",
        "colab": {
          "base_uri": "https://localhost:8080/"
        },
        "outputId": "212333b7-ed2e-4b9f-92e7-213b6159a0ba"
      },
      "outputs": [
        {
          "output_type": "stream",
          "name": "stdout",
          "text": [
            "Loading dataset from: /kaggle/input/amazon-books-reviews/Books_rating.csv\n",
            "\n",
            "DataFrame Schema:\n",
            "root\n",
            " |-- Id: string (nullable = true)\n",
            " |-- Title: string (nullable = true)\n",
            " |-- Price: double (nullable = true)\n",
            " |-- User_id: string (nullable = true)\n",
            " |-- profileName: string (nullable = true)\n",
            " |-- review/helpfulness: string (nullable = true)\n",
            " |-- review/score: double (nullable = true)\n",
            " |-- review/time: integer (nullable = true)\n",
            " |-- review/summary: string (nullable = true)\n",
            " |-- review/text: string (nullable = true)\n",
            "\n",
            "\n",
            "Sample rows from DataFrame:\n",
            "+----------+------------------------------+-----+--------------+----------------------------------+------------------+------------+-----------+-----------------------------------------------+--------------------------------------------------+\n",
            "|        Id|                         Title|Price|       User_id|                       profileName|review/helpfulness|review/score|review/time|                                 review/summary|                                       review/text|\n",
            "+----------+------------------------------+-----+--------------+----------------------------------+------------------+------------+-----------+-----------------------------------------------+--------------------------------------------------+\n",
            "|1882931173|Its Only Art If Its Well Hung!| NULL| AVCGYZL8FQQTD|             Jim of Oz \"jim-of-oz\"|               7/7|         4.0|  940636800|         Nice collection of Julie Strain images|This is only for Julie Strain fans. It's a coll...|\n",
            "|0826414346|      Dr. Seuss: American Icon| NULL|A30TK6U7DNS82R|                     Kevin Killian|             10/10|         5.0| 1095724800|                              Really Enjoyed It|I don't care much for Dr. Seuss but after readi...|\n",
            "|0826414346|      Dr. Seuss: American Icon| NULL|A3UH4UZ4RSVO82|                      John Granger|             10/11|         5.0| 1078790400|Essential for every personal and Public Library|If people become the books they read and if \"th...|\n",
            "|0826414346|      Dr. Seuss: American Icon| NULL|A2MVUWT453QH61|Roy E. Perry \"amateur philosopher\"|               7/7|         4.0| 1090713600|Phlip Nel gives silly Seuss a serious treatment|Theodore Seuss Geisel (1904-1991), aka &quot;Dr...|\n",
            "|0826414346|      Dr. Seuss: American Icon| NULL|A22X4XUPKF66MR|   D. H. Richards \"ninthwavestore\"|               3/3|         4.0| 1107993600|                         Good academic overview|Philip Nel - Dr. Seuss: American IconThis is ba...|\n",
            "+----------+------------------------------+-----+--------------+----------------------------------+------------------+------------+-----------+-----------------------------------------------+--------------------------------------------------+\n",
            "only showing top 5 rows\n",
            "\n",
            "\n",
            "Extracting column: 'review/text'\n",
            "\n",
            "Number of non-empty reviews: 2999992\n",
            "\n",
            "Sample reviews from RDD (first 5):\n",
            "--- Review --- \n",
            "This is only for Julie Strain fans. It's a collection of her photos -- about 80 pages worth with a nice section of paintings by Olivia.If you're looking for heavy literary content, this isn't the plac...\n",
            "\n",
            "--- Review --- \n",
            "I don't care much for Dr. Seuss but after reading Philip Nel's book I changed my mind--that's a good testimonial to the power of Rel's writing and thinking. Rel plays Dr. Seuss the ultimate compliment...\n",
            "\n",
            "--- Review --- \n",
            "If people become the books they read and if \"the child is father to the man,\" then Dr. Seuss (Theodor Seuss Geisel) is the most influential author, poet, and artist of modern times. For me, a daddy to...\n",
            "\n",
            "--- Review --- \n",
            "Theodore Seuss Geisel (1904-1991), aka &quot;Dr. Seuss,&quot; was one of the most influential writers and artists of the 20th century.In 1959, Rudolf Flesch wrote, &quot;A hundred years from now, chil...\n",
            "\n",
            "--- Review --- \n",
            "Philip Nel - Dr. Seuss: American IconThis is basically an academic overview of Seuss poetry, art, cartoons, and the problems with the commercialization of the Seuss name and works after his death. It ...\n",
            "\n"
          ]
        }
      ],
      "source": [
        "from pyspark.sql.functions import col\n",
        "dataset_path = os.path.join(path, \"Books_rating.csv\")\n",
        "print(f\"Loading dataset from: {dataset_path}\")\n",
        "try:\n",
        "    df = spark.read.csv(dataset_path, header=True, inferSchema=True, escape='\"')\n",
        "    print(\"\\nDataFrame Schema:\")\n",
        "    df.printSchema()\n",
        "    print(\"\\nSample rows from DataFrame:\")\n",
        "    df.show(5, truncate=50)\n",
        "    review_column_name = \"review/text\"\n",
        "    if review_column_name not in df.columns:\n",
        "        print(f\"\\nError: Column '{review_column_name}' not found in DataFrame.\")\n",
        "        print(f\"Available columns: {df.columns}\")\n",
        "    else:\n",
        "        print(f\"\\nExtracting column: '{review_column_name}'\")\n",
        "        review_df = df.select(review_column_name).na.drop()\n",
        "        review_df_filtered = review_df.filter(col(review_column_name) != \"\")\n",
        "        review_text_rdd = review_df_filtered.rdd.map(lambda row: row[review_column_name])\n",
        "        print(f\"\\nNumber of non-empty reviews: {review_text_rdd.count()}\")\n",
        "        print(f\"\\nSample reviews from RDD (first 5):\")\n",
        "        for review in review_text_rdd.take(5):\n",
        "            print(f\"--- Review --- \\n{review[:200]}...\\n\")\n",
        "except Exception as e:\n",
        "    print(f\"An error occurred: {e}\")"
      ]
    },
    {
      "cell_type": "markdown",
      "metadata": {
        "id": "OOrb7gZSvbnu"
      },
      "source": [
        "## 5. Preprocessing\n",
        "Tokenize text and remove stopwords."
      ]
    },
    {
      "cell_type": "code",
      "execution_count": 8,
      "metadata": {
        "id": "ZXibw1l7vbnu",
        "colab": {
          "base_uri": "https://localhost:8080/"
        },
        "outputId": "e2f0d182-765e-43fe-b353-2f4e601d7198"
      },
      "outputs": [
        {
          "output_type": "stream",
          "name": "stdout",
          "text": [
            "--- Original Reviews (Sample) ---\n",
            "Review 1: This is only for Julie Strain fans. It's a collection of her photos -- about 80 pages worth with a nice section of paintings by Olivia.If you're looking for heavy literary content, this isn't the plac...\n",
            "Review 2: I don't care much for Dr. Seuss but after reading Philip Nel's book I changed my mind--that's a good testimonial to the power of Rel's writing and thinking. Rel plays Dr. Seuss the ultimate compliment...\n",
            "Review 3: If people become the books they read and if \"the child is father to the man,\" then Dr. Seuss (Theodor Seuss Geisel) is the most influential author, poet, and artist of modern times. For me, a daddy to...\n",
            "Review 4: Theodore Seuss Geisel (1904-1991), aka &quot;Dr. Seuss,&quot; was one of the most influential writers and artists of the 20th century.In 1959, Rudolf Flesch wrote, &quot;A hundred years from now, chil...\n",
            "Review 5: Philip Nel - Dr. Seuss: American IconThis is basically an academic overview of Seuss poetry, art, cartoons, and the problems with the commercialization of the Seuss name and works after his death. It ...\n",
            "\n",
            "--- Tokenized Reviews (Sample) ---\n",
            "Review 1: ['this', 'is', 'only', 'for', 'julie', 'strain', 'fans', 'its', 'a', 'collection', 'of', 'her', 'photos', 'about', '80', 'pages', 'worth', 'with', 'a', 'nice']...\n",
            "Review 2: ['i', 'dont', 'care', 'much', 'for', 'dr', 'seuss', 'but', 'after', 'reading', 'philip', 'nels', 'book', 'i', 'changed', 'my', 'mindthats', 'a', 'good', 'testimonial']...\n",
            "Review 3: ['if', 'people', 'become', 'the', 'books', 'they', 'read', 'and', 'if', 'the', 'child', 'is', 'father', 'to', 'the', 'man', 'then', 'dr', 'seuss', 'theodor']...\n",
            "Review 4: ['theodore', 'seuss', 'geisel', '19041991', 'aka', 'quotdr', 'seussquot', 'was', 'one', 'of', 'the', 'most', 'influential', 'writers', 'and', 'artists', 'of', 'the', '20th', 'centuryin']...\n",
            "Review 5: ['philip', 'nel', 'dr', 'seuss', 'american', 'iconthis', 'is', 'basically', 'an', 'academic', 'overview', 'of', 'seuss', 'poetry', 'art', 'cartoons', 'and', 'the', 'problems', 'with']...\n",
            "\n",
            "--- Tokenized and Stopwords Removed (Sample) ---\n",
            "Review 1: ['julie', 'strain', 'fans', 'collection', 'photos', '80', 'pages', 'worth', 'nice', 'section', 'paintings', 'oliviaif', 'youre', 'looking', 'heavy', 'literary', 'content', 'isnt', 'place', 'find']...\n",
            "Review 2: ['dont', 'care', 'much', 'dr', 'seuss', 'reading', 'philip', 'nels', 'book', 'changed', 'mindthats', 'good', 'testimonial', 'power', 'rels', 'writing', 'thinking', 'rel', 'plays', 'dr']...\n",
            "Review 3: ['people', 'become', 'books', 'read', 'child', 'father', 'man', 'dr', 'seuss', 'theodor', 'seuss', 'geisel', 'influential', 'author', 'poet', 'artist', 'modern', 'times', 'daddy', 'large']...\n",
            "Review 4: ['theodore', 'seuss', 'geisel', '19041991', 'aka', 'quotdr', 'seussquot', 'one', 'influential', 'writers', 'artists', '20th', 'centuryin', '1959', 'rudolf', 'flesch', 'wrote', 'quota', 'hundred', 'years']...\n",
            "Review 5: ['philip', 'nel', 'dr', 'seuss', 'american', 'iconthis', 'basically', 'academic', 'overview', 'seuss', 'poetry', 'art', 'cartoons', 'problems', 'commercialization', 'seuss', 'name', 'works', 'death', 'real']...\n"
          ]
        }
      ],
      "source": [
        "import re\n",
        "from pyspark.sql.functions import col, udf\n",
        "from pyspark.sql.types import ArrayType, StringType\n",
        "\n",
        "# Define stop words\n",
        "STOP_WORDS = set([\n",
        "    \"a\", \"about\", \"above\", \"after\", \"again\", \"against\", \"all\", \"am\", \"an\", \"and\", \"any\", \"are\", \"aren't\",\n",
        "    \"as\", \"at\", \"be\", \"because\", \"been\", \"before\", \"being\", \"below\", \"between\", \"both\", \"but\", \"by\",\n",
        "    \"can't\", \"cannot\", \"could\", \"couldn't\", \"did\", \"didn't\", \"do\", \"does\", \"doesn't\", \"doing\", \"don't\",\n",
        "    \"down\", \"during\", \"each\", \"few\", \"for\", \"from\", \"further\", \"had\", \"hadn't\", \"has\", \"hasn't\", \"have\",\n",
        "    \"haven't\", \"having\", \"he\", \"he'd\", \"he'll\", \"he's\", \"her\", \"here\", \"here's\", \"hers\", \"herself\", \"him\",\n",
        "    \"himself\", \"his\", \"how\", \"how's\", \"i\", \"i'd\", \"i'll\", \"i'm\", \"i've\", \"if\", \"in\", \"into\", \"is\", \"isn't\",\n",
        "    \"it\", \"it's\", \"its\", \"itself\", \"let's\", \"me\", \"more\", \"most\", \"mustn't\", \"my\", \"myself\", \"no\", \"nor\",\n",
        "    \"not\", \"of\", \"off\", \"on\", \"once\", \"only\", \"or\", \"other\", \"ought\", \"our\", \"ours\", \"ourselves\", \"out\",\n",
        "    \"over\", \"own\", \"same\", \"shan't\", \"she\", \"she'd\", \"she'll\", \"she's\", \"should\", \"shouldn't\", \"so\", \"some\",\n",
        "    \"such\", \"than\", \"that\", \"that's\", \"the\", \"their\", \"theirs\", \"them\", \"themselves\", \"then\", \"there\",\n",
        "    \"there's\", \"these\", \"they\", \"they'd\", \"they'll\", \"they're\", \"they've\", \"this\", \"those\", \"through\",\n",
        "    \"to\", \"too\", \"under\", \"until\", \"up\", \"very\", \"was\", \"wasn't\", \"we\", \"we'd\", \"we'll\", \"we're\", \"we've\",\n",
        "    \"were\", \"weren't\", \"what\", \"what's\", \"when\", \"when's\", \"where\", \"where's\", \"which\", \"while\", \"who\",\n",
        "    \"who's\", \"whom\", \"why\", \"why's\", \"with\", \"won't\", \"would\", \"wouldn't\", \"you\", \"you'd\", \"you'll\",\n",
        "    \"you're\", \"you've\", \"your\", \"yours\", \"yourself\", \"yourselves\", \"br\"\n",
        "])\n",
        "\n",
        "def tokenize_text(text):\n",
        "    if text is None:\n",
        "        return []\n",
        "    text = text.lower()\n",
        "    text = re.sub(r'[^\\w\\s]', '', text)\n",
        "    tokens = text.split()\n",
        "    return tokens\n",
        "\n",
        "def remove_stopwords(tokens):\n",
        "    if tokens is None:\n",
        "        return []\n",
        "    return [token for token in tokens if token not in STOP_WORDS and len(token) > 1]\n",
        "\n",
        "def preprocess_review_text(text):\n",
        "    tokens = tokenize_text(text)\n",
        "    tokens = remove_stopwords(tokens)\n",
        "    return tokens\n",
        "\n",
        "# Test preprocessing on sample data\n",
        "sc.setLogLevel(\"ERROR\")\n",
        "sample_reviews_df = df.select(review_column_name).na.drop().filter(col(review_column_name) != \"\").limit(5)\n",
        "sample_reviews_list = [row[review_column_name] for row in sample_reviews_df.collect()]\n",
        "sample_rdd = sc.parallelize(sample_reviews_list)\n",
        "\n",
        "print(\"--- Original Reviews (Sample) ---\")\n",
        "for i, review in enumerate(sample_rdd.collect()):\n",
        "    print(f\"Review {i+1}: {review[:200]}...\")\n",
        "\n",
        "# Tokenization\n",
        "tokenized_rdd = sample_rdd.map(tokenize_text)\n",
        "print(\"\\n--- Tokenized Reviews (Sample) ---\")\n",
        "for i, tokens in enumerate(tokenized_rdd.collect()):\n",
        "    print(f\"Review {i+1}: {tokens[:20]}...\")\n",
        "\n",
        "# Stop-word removal\n",
        "stopwords_removed_rdd = tokenized_rdd.map(remove_stopwords)\n",
        "print(\"\\n--- Tokenized and Stopwords Removed (Sample) ---\")\n",
        "for i, tokens in enumerate(stopwords_removed_rdd.collect()):\n",
        "    print(f\"Review {i+1}: {tokens[:20]}...\")"
      ]
    },
    {
      "cell_type": "markdown",
      "metadata": {
        "id": "cRHT1Yy7vbnv"
      },
      "source": [
        "## 6. Feature Extraction - Bag of Words (BoW)\n",
        "Create BoW vectors from preprocessed text."
      ]
    },
    {
      "cell_type": "code",
      "execution_count": 9,
      "metadata": {
        "id": "kfYciuRevbnv",
        "colab": {
          "base_uri": "https://localhost:8080/"
        },
        "outputId": "09f558c0-591a-4720-dd2c-cfa94bdd54c0"
      },
      "outputs": [
        {
          "output_type": "stream",
          "name": "stdout",
          "text": [
            "Vocabulary size (from sample): 31786\n",
            "\n",
            "--- BoW Vectors (word_index: count) for Demo Reviews ---\n",
            "\n",
            "Review 1 (Processed Tokens: ['julie', 'strain', 'fans', 'collection', 'photos', '80', 'pages', 'worth', 'nice', 'section', 'paintings', 'oliviaif', 'youre', 'looking', 'heavy']...)\n",
            "  BoW (word:count from sample vocab): {'julie': 3, 'strain': 1, 'fans': 1, 'collection': 1, 'photos': 1, '80': 1, 'pages': 2, 'worth': 1, 'nice': 1, 'section': 1, 'paintings': 1, 'youre': 1, 'looking': 1, 'heavy': 1, 'literary': 1, 'content': 1, 'isnt': 1, 'place': 1, 'find': 1, 'theres': 1, 'text': 1, 'everything': 1, 'else': 1, 'line': 1, 'want': 1, 'one': 3, 'book': 1, 'six': 1, 'foot': 1, 'probably': 1, 'better': 1, 'choice': 1, 'however': 1, 'like': 3, 'wont': 1, 'go': 1, 'wrong': 1, 'either': 1}\n",
            "\n",
            "Review 2 (Processed Tokens: ['dont', 'care', 'much', 'dr', 'seuss', 'reading', 'philip', 'nels', 'book', 'changed', 'mindthats', 'good', 'testimonial', 'power', 'rels']...)\n",
            "  BoW (word:count from sample vocab): {'dont': 1, 'care': 1, 'much': 2, 'dr': 2, 'seuss': 4, 'reading': 2, 'philip': 1, 'book': 3, 'changed': 1, 'good': 2, 'testimonial': 1, 'power': 1, 'writing': 1, 'thinking': 1, 'plays': 1, 'ultimate': 1, 'compliment': 1, 'treating': 1, 'serious': 1, 'poet': 1, 'well': 1, 'one': 1, '20th': 1, 'centurys': 1, 'interesting': 1, 'visual': 1, 'artists': 1, 'decided': 1, 'trip': 1, 'collections': 1, 'library': 1, 'university': 1, 'california': 1, 'san': 1, 'diego': 1, 'order': 1, 'visit': 1, 'incredible': 1, 'almost': 1, 'take': 1, 'like': 2, 'william': 1, 'butler': 1, 'yeats': 1, 'led': 1, 'career': 2, 'constantly': 1, 'meet': 1, 'new': 1, 'historical': 1, 'political': 1, 'seems': 1, 'conservative': 1, 'different': 1, 'politics': 1, 'art': 1, 'shows': 1, 'us': 3, 'fabled': 1, 'pm': 1, 'magazine': 1, 'andy': 1, 'served': 1, 'time': 1, 'ad': 1, 'business': 1, 'service': 1, 'amusing': 1, 'broadening': 1, 'minds': 1, 'children': 1, 'doesnt': 1, 'hesitate': 1, 'sound': 1, 'spanking': 1, 'industry': 1, 'since': 1, 'death': 1, 'seen': 1, 'fit': 1, 'license': 1, 'kinds': 1, 'awful': 1, 'products': 1, 'including': 1, 'recent': 1, 'cat': 1, 'hat': 1, 'film': 1, 'mike': 1, 'myers': 1, 'oh': 1, 'great': 1, 'can': 1, 'especially': 1, 'recommend': 1, 'work': 1, 'picture': 1, 'editor': 1, 'given': 1, 'illustrations': 1}\n",
            "\n",
            "Review 3 (Processed Tokens: ['people', 'become', 'books', 'read', 'child', 'father', 'man', 'dr', 'seuss', 'theodor', 'seuss', 'geisel', 'influential', 'author', 'poet']...)\n",
            "  BoW (word:count from sample vocab): {'people': 1, 'become': 1, 'books': 3, 'read': 4, 'child': 1, 'father': 1, 'man': 1, 'dr': 3, 'seuss': 8, 'influential': 1, 'author': 1, 'poet': 1, 'artist': 1, 'modern': 1, 'times': 1, 'daddy': 1, 'large': 1, 'family': 1, 'learned': 2, 'memorized': 1, 'many': 2, 'via': 1, 'repeated': 1, 'readings': 1, 'young': 1, 'children': 1, 'prof': 3, 'brilliant': 1, 'american': 2, 'icon': 1, 'long': 1, 'awaited': 1, 'treat': 1, 'last': 1, 'serious': 2, 'treatment': 1, 'remarkable': 2, 'genius': 1, 'engaging': 2, 'filled': 1, 'insights': 1, 'especially': 1, 'enjoyed': 1, 'care': 1, 'admit': 1, 'discussions': 1, 'links': 1, 'failings': 1, 'copyright': 1, 'law': 1, 'sides': 2, 'new': 1, 'political': 1, 'genesis': 1, 'secular': 1, 'morality': 1, 'wwii': 1, 'cartoon': 1, 'work': 2, 'pm': 1, 'magazine': 1, 'chapters': 1, 'poetry': 1, 'artwork': 1, 'link': 1, 'makes': 2, 'historical': 1, 'avant': 1, 'alone': 1, 'make': 1, 'book': 4, 'must': 1, 'buy': 1, 'parents': 1, 'readers': 2, 'mention': 1, 'public': 1, 'libraries': 1, 'will': 2, 'find': 1, 'writing': 1, 'style': 1, 'fun': 1, 'imparting': 1, 'mountain': 1, 'information': 1, 'important': 1, 'ideas': 1, 'simply': 1, 'best': 1, 'comprehensive': 1, 'yet': 1, 'written': 2, 'certainly': 1, 'standard': 1, 'years': 2, 'come': 1, 'thank': 1, 'wherever': 1, 'reader': 1, 'grew': 1, 'good': 1, 'doctor': 1, 'growing': 1, 'later': 1, 'knowledge': 1, 'childrens': 1, 'literature': 1, 'media': 1, 'genre': 1, 'scanning': 1, 'verse': 1, 'cubist': 1, 'painting': 1, 'explains': 1, 'power': 1, 'limits': 1, 'popularity': 1, 'phenomenon': 1}\n",
            "\n",
            "Review 4 (Processed Tokens: ['theodore', 'seuss', 'geisel', '19041991', 'aka', 'quotdr', 'seussquot', 'one', 'influential', 'writers', 'artists', '20th', 'centuryin', '1959', 'rudolf']...)\n",
            "  BoW (word:count from sample vocab): {'seuss': 9, 'aka': 1, 'quotdr': 2, 'one': 2, 'influential': 1, 'writers': 1, 'artists': 1, '20th': 1, '1959': 1, 'wrote': 1, 'quota': 2, 'hundred': 1, 'years': 2, 'now': 1, 'children': 2, 'parents': 1, 'will': 3, 'still': 2, 'eagerly': 1, 'read': 2, 'books': 4, 'fellow': 1, 'called': 1, 'ted': 1, 'known': 1, 'dr': 6, 'conservative': 1, 'prediction': 1, 'century': 1, 'today': 1, 'many': 2, 'authors': 2, 'todays': 1, 'bestseller': 1, 'lists': 1, 'centenary': 1, 'birth': 1, 'american': 4, 'icon': 3, 'analyzes': 1, 'six': 2, 'key': 1, 'aspects': 1, 'career': 1, 'poetry': 1, 'politics': 1, 'art': 3, 'biography': 4, 'marketing': 1, 'insightful': 1, 'chapters': 1, 'philip': 1, 'assistant': 1, 'professor': 1, 'english': 1, 'kansas': 1, 'state': 1, 'university': 1, 'discusses': 1, 'laureate': 1, 'vs': 1, 'adolf': 2, 'quotthe': 5, 'doc': 1, 'fingers': 1, 'cat': 3, 'hat': 3, 'gives': 1, 'short': 1, 'shrift': 1, 'childhood': 1, 'family': 1, 'indeed': 1, 'focus': 1, 'writing': 1, 'first': 1, 'book': 6, 'think': 1, 'saw': 1, 'street': 1, 'last': 1, 'oh': 1, 'places': 1, 'youll': 1, 'go': 1, 'breakthrough': 1, 'year': 1, '1957': 1, 'published': 1, 'two': 1, 'often': 1, 'identified': 1, 'stole': 1, 'classic': 1, 'works': 1, 'canon': 1, 'hears': 1, 'persons': 1, 'person': 1, 'matter': 1, 'turtle': 1, 'modeled': 1, 'rise': 1, 'hitler': 1, 'green': 1, 'eggs': 1, 'ham': 1, 'bestselling': 1, 'criticism': 1, 'antisemitism': 1, 'corporate': 1, 'abuse': 1, 'environment': 1, 'butter': 1, 'battle': 1, 'critique': 1, 'enthusiasm': 1, 'nuclear': 1, 'arms': 1, 'favorite': 1, 'work': 5, 'among': 1, 'authored': 1, 'taught': 1, 'readwhile': 1, 'clear': 1, 'powerful': 1, 'moral': 1, 'horror': 1, 'heavyhanded': 1, 'preaching': 1, 'sought': 1, 'teach': 1, 'ignite': 1, 'imagination': 2, 'lifelong': 1, 'opponent': 1, 'smug': 1, 'selfrighteous': 1, 'bourgeois': 1, 'writes': 1, 'enjoyed': 1, 'challenging': 1, 'people': 1, 'assumptions': 1, 'rebellious': 1, 'rules': 1, 'exhibited': 1, 'thrill': 1, 'better': 1, 'subtitle': 1, 'tells': 1, 'early': 1, 'advertising': 2, 'artist': 1, 'agitprop': 1, 'however': 1, 'serious': 1, 'study': 1, 'genres': 1, 'literary': 1, 'readers': 2, 'want': 1, 'biographical': 1, 'information': 1, 'recommends': 1, 'mr': 1, 'judith': 1, 'morgan': 2, 'neil': 1, '1995': 1, 'describes': 1, 'definitive': 1, 'single': 1, 'best': 1, 'secondary': 1, 'source': 1, 'discussion': 1, 'life': 1, 'must': 1, 'begin': 1, 'includes': 1, '103': 1, 'pages': 1, 'notes': 1, 'index': 1, 'comprehensive': 1, 'annotated': 1, 'bibliography': 1, 'ever': 1, 'assembled': 1, 'learns': 1, 'lot': 1, 'lucid': 1, 'style': 1, 'makes': 1, 'enlightening': 1, 'fun': 1, 'author': 1, 'rowlings': 1, 'harry': 1, 'potter': 1, 'novels': 1, 'guide': 1, '2001': 1, 'avantgarde': 1, 'postmodernity': 1, 'perry': 1, 'tennessee': 1, 'nashville': 1, 'publishing': 1, 'house': 1}\n",
            "\n",
            "Review 5 (Processed Tokens: ['philip', 'nel', 'dr', 'seuss', 'american', 'iconthis', 'basically', 'academic', 'overview', 'seuss', 'poetry', 'art', 'cartoons', 'problems', 'commercialization']...)\n",
            "  BoW (word:count from sample vocab): {'philip': 1, 'dr': 2, 'seuss': 8, 'american': 1, 'basically': 1, 'academic': 2, 'overview': 1, 'poetry': 2, 'art': 2, 'cartoons': 3, 'problems': 1, 'name': 1, 'works': 4, 'death': 1, 'real': 1, 'extent': 1, 'biography': 1, 'seeking': 1, 'move': 1, 'book': 3, 'dry': 1, 'side': 1, 'assumes': 1, 'reader': 1, 'fairly': 1, 'good': 4, 'knowledge': 1, 'childrens': 1, 'literature': 1, '20th': 1, 'century': 1, 'animated': 1, 'kind': 1, 'begin': 1, 'experience': 1, 'read': 1, 'children': 1, 'interested': 2, 'writing': 1, 'style': 2, 'chapter': 2, 'still': 1, 'recent': 1, 'rush': 1, 'cash': 1, 'hollywood': 1, 'think': 1, 'wants': 1, 'come': 1, 'based': 1, 'background': 2, 'started': 1, 'drawing': 1, 'projects': 1, 'approved': 1, 'lifetime': 1, 'tough': 1, 'argument': 1, 'make': 1, 'end': 1, 'though': 1, 'point': 1, 'maybe': 1, 'movies': 1, 'tie': 1, 'ins': 1, 'well': 1, 'researched': 1, 'lots': 1, 'neat': 1, 'tidbits': 1, 'early': 1, 'pm': 1, 'magazine': 1, 'occasionally': 1, 'todays': 1, 'standards': 1, 'shockingly': 1, 'racist': 1, 'makes': 1, 'little': 1, 'human': 1, 'puts': 1, 'latter': 1, 'like': 1, 'new': 1, 'education': 1, 'may': 1, 'enjoy': 2, 'fans': 1, 'will': 1, 'exhaustive': 1, 'bibliography': 1, 'many': 2, 'also': 1, 'list': 1, 'man': 1}\n"
          ]
        }
      ],
      "source": [
        "def create_bow_vector(tokens, vocabulary_map):\n",
        "    \"\"\"Creates a BoW vector as a dictionary of {word_index: count}.\"\"\"\n",
        "    vector = {}\n",
        "    for token in tokens:\n",
        "        if token in vocabulary_map:\n",
        "            word_index = vocabulary_map[token]\n",
        "            vector[word_index] = vector.get(word_index, 0) + 1\n",
        "    return vector\n",
        "\n",
        "# Create vocabulary from sample\n",
        "sample_for_vocab_df = df.select(review_column_name).na.drop().filter(col(review_column_name) != \"\").sample(fraction=0.001, seed=42)\n",
        "processed_rdd_sample_for_vocab = sample_for_vocab_df.rdd.map(lambda row: preprocess_review_text(row[review_column_name]))\n",
        "vocabulary_list = processed_rdd_sample_for_vocab.flatMap(lambda tokens: tokens).distinct().collect()\n",
        "vocabulary_map = {word: i for i, word in enumerate(vocabulary_list)}\n",
        "print(f\"Vocabulary size (from sample): {len(vocabulary_map)}\")\n",
        "\n",
        "# Demonstrate BoW on sample reviews\n",
        "demonstration_reviews_df = df.select(review_column_name).na.drop().filter(col(review_column_name) != \"\").limit(5)\n",
        "demonstration_reviews_rdd_original_text = demonstration_reviews_df.rdd.map(lambda row: row[review_column_name])\n",
        "processed_reviews_for_demo_rdd = demonstration_reviews_rdd_original_text.map(preprocess_review_text)\n",
        "bow_rdd = processed_reviews_for_demo_rdd.map(lambda tokens: create_bow_vector(tokens, vocabulary_map))\n",
        "\n",
        "print(\"\\n--- BoW Vectors (word_index: count) for Demo Reviews ---\")\n",
        "index_to_word_map = {index: word for word, index in vocabulary_map.items()}\n",
        "collected_bow_vectors = bow_rdd.collect()\n",
        "collected_processed_tokens = processed_reviews_for_demo_rdd.collect()\n",
        "\n",
        "for i, vector in enumerate(collected_bow_vectors):\n",
        "    print(f\"\\nReview {i+1} (Processed Tokens: {collected_processed_tokens[i][:15]}...)\")\n",
        "    readable_vector = {index_to_word_map.get(idx, \"UNK_IDX\"): count for idx, count in vector.items() if idx in index_to_word_map}\n",
        "    if not readable_vector and vector:\n",
        "        print(f\"  BoW (raw index:count): {vector}\")\n",
        "        print(\"  (Words in this review might not be in the sampled vocabulary)\")\n",
        "    else:\n",
        "        print(f\"  BoW (word:count from sample vocab): {readable_vector}\")"
      ]
    },
    {
      "cell_type": "markdown",
      "metadata": {
        "id": "a4NqjlDnvbnv"
      },
      "source": [
        "## 7. Feature Extraction - TF-IDF\n",
        "Calculate TF-IDF vectors for better text representation."
      ]
    },
    {
      "cell_type": "code",
      "execution_count": 10,
      "metadata": {
        "id": "7d9VrjAyvbnv",
        "colab": {
          "base_uri": "https://localhost:8080/"
        },
        "outputId": "3bb28128-5dc5-4938-d362-1ac2b469b39d"
      },
      "outputs": [
        {
          "output_type": "stream",
          "name": "stdout",
          "text": [
            "Number of documents in sample for IDF calculation: 1558\n",
            "Calculated IDF for 21123 terms.\n",
            "\n",
            "--- TF-IDF Vectors (term: tf-idf_score) for Demo Reviews ---\n",
            "\n",
            "Review 1 (Processed Tokens: ['julie', 'strain', 'fans', 'collection', 'photos', '80', 'pages', 'worth', 'nice', 'section']...)\n",
            "  TF-IDF (top 10 terms): [('julie', 0.39909867687846273), ('strain', 0.14165980948661167), ('foot', 0.14165980948661167), ('80', 0.13303289229282092), ('paintings', 0.13303289229282092), ('pages', 0.12426984798244169), ('photos', 0.10538857348153878), ('heavy', 0.10538857348153878), ('six', 0.1018342312546629), ('content', 0.09491035039435168)]\n",
            "\n",
            "Review 2 (Processed Tokens: ['dont', 'care', 'much', 'dr', 'seuss', 'reading', 'philip', 'nels', 'book', 'changed']...)\n",
            "  TF-IDF (top 10 terms): [('seuss', 0.1972744013591333), ('career', 0.06311282626773893), ('dr', 0.059020183651025473), ('us', 0.05057743135993037), ('testimonial', 0.049318600339783324), ('fabled', 0.049318600339783324), ('andy', 0.049318600339783324), ('spanking', 0.049318600339783324), ('license', 0.049318600339783324), ('hat', 0.049318600339783324)]\n",
            "\n",
            "Review 3 (Processed Tokens: ['people', 'become', 'books', 'read', 'child', 'father', 'man', 'dr', 'seuss', 'theodor']...)\n",
            "  TF-IDF (top 10 terms): [('seuss', 0.32478102662784136), ('prof', 0.12179288498544051), ('dr', 0.0728755316422723), ('sides', 0.06285284937920091), ('remarkable', 0.05836840084108728), ('engaging', 0.051410536713433465), ('learned', 0.04991538644401477), ('serious', 0.047383199068670334), ('icon', 0.04059762832848017), ('genesis', 0.04059762832848017)]\n",
            "\n",
            "Review 4 (Processed Tokens: ['theodore', 'seuss', 'geisel', '19041991', 'aka', 'quotdr', 'seussquot', 'one', 'influential', 'writers']...)\n",
            "  TF-IDF (top 10 terms): [('seuss', 0.17419214945592074), ('dr', 0.06948597203100383), ('quotthe', 0.05949217570362225), ('icon', 0.058064049818640245), ('hat', 0.058064049818640245), ('biography', 0.052534242818307875), ('cat', 0.04597427341352492), ('quotdr', 0.03870936654576016), ('advertising', 0.03870936654576016), ('morgan', 0.03870936654576016)]\n",
            "\n",
            "Review 5 (Processed Tokens: ['philip', 'nel', 'dr', 'seuss', 'american', 'iconthis', 'basically', 'academic', 'overview', 'seuss']...)\n",
            "  TF-IDF (top 10 terms): [('seuss', 0.37775949196429776), ('cartoons', 0.13303289229282092), ('works', 0.08531497317948963), ('academic', 0.07477612318795543), ('poetry', 0.061087032463932905), ('background', 0.061087032463932905), ('art', 0.05805761260154909), ('dr', 0.05650868647438609), ('animated', 0.04721993649553722), ('cash', 0.04721993649553722)]\n"
          ]
        },
        {
          "output_type": "execute_result",
          "data": {
            "text/plain": [
              "PythonRDD[58] at RDD at PythonRDD.scala:53"
            ]
          },
          "metadata": {},
          "execution_count": 10
        }
      ],
      "source": [
        "import math\n",
        "from collections import Counter\n",
        "\n",
        "def calculate_tf(doc_tokens):\n",
        "    \"\"\"Calculates Term Frequency for each term in a document.\"\"\"\n",
        "    if not doc_tokens:\n",
        "        return {}\n",
        "    term_counts = Counter(doc_tokens)\n",
        "    total_terms = len(doc_tokens)\n",
        "    tf_scores = {term: count / total_terms for term, count in term_counts.items()}\n",
        "    return tf_scores\n",
        "\n",
        "def calculate_idf(corpus_rdd, num_total_docs):\n",
        "    \"\"\"Calculates Inverse Document Frequency for terms in a corpus.\"\"\"\n",
        "    term_doc_pairs = corpus_rdd.flatMap(lambda doc_terms: [(term, 1) for term in set(doc_terms)])\n",
        "    doc_frequencies = term_doc_pairs.reduceByKey(lambda a, b: a + b).collectAsMap()\n",
        "    idf_scores = {}\n",
        "    for term, df in doc_frequencies.items():\n",
        "        idf_scores[term] = math.log(num_total_docs / (1 + df))\n",
        "    return idf_scores\n",
        "\n",
        "# Calculate IDF from sample\n",
        "sample_reviews_df_for_idf = df.select(review_column_name).na.drop().filter(col(review_column_name) != \"\").sample(fraction=0.0005, seed=42)\n",
        "processed_sample_rdd = sample_reviews_df_for_idf.rdd.map(lambda row: preprocess_review_text(row[review_column_name]))\n",
        "processed_sample_rdd.cache()\n",
        "num_sample_docs = processed_sample_rdd.count()\n",
        "print(f\"Number of documents in sample for IDF calculation: {num_sample_docs}\")\n",
        "\n",
        "idf_scores_map = calculate_idf(processed_sample_rdd, num_sample_docs)\n",
        "broadcast_idf_scores = sc.broadcast(idf_scores_map)\n",
        "print(f\"Calculated IDF for {len(idf_scores_map)} terms.\")\n",
        "\n",
        "# Demonstrate TF-IDF on sample reviews\n",
        "demonstration_reviews_df = df.select(review_column_name).na.drop().filter(col(review_column_name) != \"\").limit(5)\n",
        "demonstration_reviews_original_text_rdd = demonstration_reviews_df.rdd.map(lambda row: row[review_column_name])\n",
        "processed_reviews_for_demo_rdd = demonstration_reviews_original_text_rdd.map(preprocess_review_text)\n",
        "tf_vectors_rdd = processed_reviews_for_demo_rdd.map(calculate_tf)\n",
        "\n",
        "def calculate_tfidf_vector(tf_vector, idf_map_broadcasted):\n",
        "    tfidf_vector = {}\n",
        "    idf_map = idf_map_broadcasted.value\n",
        "    for term, tf_score in tf_vector.items():\n",
        "        idf_score = idf_map.get(term, 0)\n",
        "        tfidf_vector[term] = tf_score * idf_score\n",
        "    return tfidf_vector\n",
        "\n",
        "tfidf_rdd = tf_vectors_rdd.map(lambda tf_vec: calculate_tfidf_vector(tf_vec, broadcast_idf_scores))\n",
        "\n",
        "print(\"\\n--- TF-IDF Vectors (term: tf-idf_score) for Demo Reviews ---\")\n",
        "collected_tfidf_vectors = tfidf_rdd.collect()\n",
        "collected_processed_tokens_demo = processed_reviews_for_demo_rdd.collect()\n",
        "\n",
        "for i, vector in enumerate(collected_tfidf_vectors):\n",
        "    print(f\"\\nReview {i+1} (Processed Tokens: {collected_processed_tokens_demo[i][:10]}...)\")\n",
        "    sorted_vector = sorted(vector.items(), key=lambda item: item[1], reverse=True)\n",
        "    print(f\"  TF-IDF (top 10 terms): {sorted_vector[:10]}\")\n",
        "    if not vector:\n",
        "        print(\"  (This review might contain only words not present in the IDF sample vocabulary or only stop words)\")\n",
        "\n",
        "processed_sample_rdd.unpersist()"
      ]
    },
    {
      "cell_type": "markdown",
      "metadata": {
        "id": "XfVXNmomvbnv"
      },
      "source": [
        "## 8. Similarity Calculations - Jaccard Similarity\n",
        "Calculate Jaccard similarity between document pairs."
      ]
    },
    {
      "cell_type": "code",
      "execution_count": 11,
      "metadata": {
        "id": "aVZGu1tYvbnv",
        "colab": {
          "base_uri": "https://localhost:8080/"
        },
        "outputId": "cf432157-60b9-4f73-dea3-4abf436e0c78"
      },
      "outputs": [
        {
          "output_type": "stream",
          "name": "stdout",
          "text": [
            "Number of documents in sample for Jaccard similarity: 200\n",
            "\n",
            "--- Highly Similar Pairs (Jaccard > 0.5) ---\n",
            "Pair: (0517150328, 0517150328), Jaccard Similarity: 0.9906\n",
            "\n",
            "Found 1 pairs above threshold 0.5 in the sample of 200 reviews.\n"
          ]
        },
        {
          "output_type": "execute_result",
          "data": {
            "text/plain": [
              "PythonRDD[87] at RDD at PythonRDD.scala:53"
            ]
          },
          "metadata": {},
          "execution_count": 11
        }
      ],
      "source": [
        "def jaccard_similarity(set1, set2):\n",
        "    \"\"\"Calculates Jaccard similarity between two sets.\"\"\"\n",
        "    if not set1 and not set2:\n",
        "        return 1.0\n",
        "    if not set1 or not set2:\n",
        "        return 0.0\n",
        "    intersection = len(set1.intersection(set2))\n",
        "    union = len(set1.union(set2))\n",
        "    return intersection / union if union != 0 else 0.0\n",
        "\n",
        "# Sample for Jaccard similarity\n",
        "sample_size = 200\n",
        "sampled_reviews_df = df.select(\"Id\", review_column_name).na.drop().filter(col(review_column_name) != \"\").limit(sample_size)\n",
        "processed_reviews_with_id_rdd = sampled_reviews_df.rdd.map(\n",
        "    lambda row: (row[\"Id\"], preprocess_review_text(row[review_column_name]))\n",
        ")\n",
        "indexed_processed_reviews_rdd = processed_reviews_with_id_rdd.mapValues(lambda tokens: set(tokens)).zipWithIndex().map(\n",
        "    lambda x: (x[1], (x[0][0], x[0][1]))\n",
        ")\n",
        "indexed_processed_reviews_rdd.cache()\n",
        "\n",
        "num_docs_in_sample = indexed_processed_reviews_rdd.count()\n",
        "print(f\"Number of documents in sample for Jaccard similarity: {num_docs_in_sample}\")\n",
        "\n",
        "review_pairs_rdd = indexed_processed_reviews_rdd.cartesian(indexed_processed_reviews_rdd)\n",
        "\n",
        "def process_pair(pair_data):\n",
        "    doc1_data, doc2_data = pair_data\n",
        "    idx1, (orig_id1, tokens1) = doc1_data\n",
        "    idx2, (orig_id2, tokens2) = doc2_data\n",
        "    if idx1 < idx2:\n",
        "        similarity = jaccard_similarity(tokens1, tokens2)\n",
        "        return ((orig_id1, orig_id2), similarity)\n",
        "    return None\n",
        "\n",
        "similarities_rdd = review_pairs_rdd.map(process_pair).filter(lambda x: x is not None)\n",
        "jaccard_threshold = 0.5\n",
        "highly_similar_pairs_rdd = similarities_rdd.filter(lambda x: x[1] >= jaccard_threshold)\n",
        "\n",
        "print(f\"\\n--- Highly Similar Pairs (Jaccard > {jaccard_threshold}) ---\")\n",
        "collected_similar_pairs = highly_similar_pairs_rdd.collect()\n",
        "\n",
        "if not collected_similar_pairs:\n",
        "    print(\"No pairs found above the similarity threshold in the sample.\")\n",
        "else:\n",
        "    for pair_ids, score in collected_similar_pairs[:10]:  # Show first 10\n",
        "        print(f\"Pair: ({pair_ids[0]}, {pair_ids[1]}), Jaccard Similarity: {score:.4f}\")\n",
        "\n",
        "print(f\"\\nFound {len(collected_similar_pairs)} pairs above threshold {jaccard_threshold} in the sample of {num_docs_in_sample} reviews.\")\n",
        "indexed_processed_reviews_rdd.unpersist()"
      ]
    },
    {
      "cell_type": "markdown",
      "metadata": {
        "id": "dcGD-OrJvbnw"
      },
      "source": [
        "## 9. Similarity Calculations - Cosine Similarity (TF-IDF)\n",
        "Calculate cosine similarity using TF-IDF vectors."
      ]
    },
    {
      "cell_type": "code",
      "execution_count": 12,
      "metadata": {
        "id": "jE5X3U0Zvbnw",
        "colab": {
          "base_uri": "https://localhost:8080/"
        },
        "outputId": "9c9db3b2-6d73-4b5f-b010-299227c3cb24"
      },
      "outputs": [
        {
          "output_type": "stream",
          "name": "stdout",
          "text": [
            "Number of documents in sample for Cosine similarity comparison: 200\n",
            "\n",
            "--- Highly Similar Pairs (Cosine > 0.7) ---\n",
            "Pair: (0517150328, 0517150328), Cosine Similarity: 1.0000\n",
            "\n",
            "Found 1 pairs above threshold 0.7 in the sample of 200 reviews.\n"
          ]
        },
        {
          "output_type": "execute_result",
          "data": {
            "text/plain": [
              "PythonRDD[101] at RDD at PythonRDD.scala:53"
            ]
          },
          "metadata": {},
          "execution_count": 12
        }
      ],
      "source": [
        "def cosine_similarity(vec1, vec2):\n",
        "    intersection = set(vec1.keys()) & set(vec2.keys())\n",
        "    dot_product = sum(vec1[term] * vec2[term] for term in intersection)\n",
        "    mag1 = math.sqrt(sum(score**2 for score in vec1.values()))\n",
        "    mag2 = math.sqrt(sum(score**2 for score in vec2.values()))\n",
        "    if not mag1 or not mag2:\n",
        "        return 0.0\n",
        "    return dot_product / (mag1 * mag2)\n",
        "\n",
        "# Sample for cosine similarity\n",
        "comparison_sample_df = df.select(\"Id\", review_column_name).na.drop().filter(col(review_column_name) != \"\").limit(200)\n",
        "doc_tfidf_rdd = comparison_sample_df.rdd.map(\n",
        "    lambda row: (row[\"Id\"], get_tfidf_vector(preprocess_review_text(row[review_column_name]), broadcast_idf_scores))\n",
        ")\n",
        "\n",
        "def get_tfidf_vector(doc_tokens, broadcast_idf_map):\n",
        "    tf_vector = calculate_tf(doc_tokens)\n",
        "    idf_map = broadcast_idf_map.value\n",
        "    tfidf_vector = {\n",
        "        term: tf_score * idf_map.get(term, 0)\n",
        "        for term, tf_score in tf_vector.items()\n",
        "    }\n",
        "    return tfidf_vector\n",
        "\n",
        "indexed_doc_tfidf_rdd = doc_tfidf_rdd.zipWithIndex().map(lambda x: (x[1], x[0]))\n",
        "indexed_doc_tfidf_rdd.cache()\n",
        "num_docs_for_comparison = indexed_doc_tfidf_rdd.count()\n",
        "print(f\"Number of documents in sample for Cosine similarity comparison: {num_docs_for_comparison}\")\n",
        "\n",
        "review_pairs_rdd = indexed_doc_tfidf_rdd.cartesian(indexed_doc_tfidf_rdd)\n",
        "\n",
        "def process_cosine_pair(pair_data):\n",
        "    doc1_data, doc2_data = pair_data\n",
        "    idx1, (orig_id1, vec1) = doc1_data\n",
        "    idx2, (orig_id2, vec2) = doc2_data\n",
        "    if idx1 < idx2:\n",
        "        similarity = cosine_similarity(vec1, vec2)\n",
        "        return ((orig_id1, orig_id2), similarity)\n",
        "    return None\n",
        "\n",
        "cosine_similarities_rdd = review_pairs_rdd.map(process_cosine_pair).filter(lambda x: x is not None)\n",
        "cosine_threshold = 0.7\n",
        "highly_similar_pairs_rdd = cosine_similarities_rdd.filter(lambda x: x[1] >= cosine_threshold)\n",
        "\n",
        "print(f\"\\n--- Highly Similar Pairs (Cosine > {cosine_threshold}) ---\")\n",
        "collected_similar_pairs = highly_similar_pairs_rdd.collect()\n",
        "\n",
        "if not collected_similar_pairs:\n",
        "    print(\"No pairs found above the similarity threshold in the sample.\")\n",
        "else:\n",
        "    for pair_ids, score in collected_similar_pairs[:10]:  # Show first 10\n",
        "        print(f\"Pair: ({pair_ids[0]}, {pair_ids[1]}), Cosine Similarity: {score:.4f}\")\n",
        "\n",
        "print(f\"\\nFound {len(collected_similar_pairs)} pairs above threshold {cosine_threshold} in the sample of {num_docs_for_comparison} reviews.\")\n",
        "indexed_doc_tfidf_rdd.unpersist()"
      ]
    },
    {
      "cell_type": "markdown",
      "metadata": {
        "id": "Rhhw2soTvbnw"
      },
      "source": [
        "## 10. Similarity Calculations - MinHash LSH\n",
        "Use Locality Sensitive Hashing for approximate similarity search."
      ]
    },
    {
      "cell_type": "code",
      "execution_count": 13,
      "metadata": {
        "id": "hTz0prZrvbnw",
        "colab": {
          "base_uri": "https://localhost:8080/"
        },
        "outputId": "b677d6a7-1d87-4e40-803c-43be5a204e56"
      },
      "outputs": [
        {
          "output_type": "stream",
          "name": "stdout",
          "text": [
            "Vocabulary size: 21205\n",
            "+----------+----------------------------------------------------------------------------------------------------------------------------------------------------------------------------------------------------------------------------------------------------------------------------------------------------------------------------------------------------------------------------------------------------------------------------------------------------------------------------------------------------------------------------------------------------------------------------------------------------------------------------------------------------------------------------------------------------------------------------------------------------------------------------------------------------------------------------------------------------------------------------------------------------------------------------------------------------------------------------------------------------------------------------------------------------------------------------------------------------------------------------------------------------------------------------------------------------------------------------------------------------------------------------------------------------------------------------------------------------------------------------------------------------------------------------------------------------------------------------------------------------------------------------------------------------------------------------------------------------------------------------------------------------------------------------------------------------------------------------------------------------------------------------------------------------------------------------------------------------------------------------------------------------------------------------------------------------------------------------------------------------------------------------------------------------------------------------------------------------------------------------------------------------------------------------------------------------------------------------------------------------------------------------------------------------------------------------------------------------------------------------------------------------------------------------------------------------------------------------------------------------------------------------------------------------------------------------------------------------------------------------------------------------------------------------------------------------------------------------------------------------------------------------------------------------------------------------------------------------------------------------------------------------------------------------------------------------------------------------------------------------------------------------------------------------------------------------------------------------------------------------------+-------------------------------------------------------------------------------------------------------------------------------------------------------------------------------------------------------------------------------------------------------------------------------------------------------------------------------------------------------------------------------------------------------------------------------------------------------------------------------------------------------------------------------------------------------------------------------------------------------------------------------------------------------------------------------------------------------------------------------------------------------------------------------------------------------------------------------------------------------------------------------------------------------------------------------------------------------------------------------------------------------------------------------------------------------------------------------------------------------------------------------------------------------------------------------------------------------------------------------------------------------------------------------------------------------------------------------------------------------------------------------------------------------------------------------------------------------------------------------------------------------------------------------------------------------------------------------------------------------------------------------------------------------------------------------------------------------------------------------------------------------------------------------------------------------------------------------------------------------------------------------------------------------------------------------------------------------------------------------------------------------------------------------------------------------------------------------------------------------------------------------------------------------------------------------------------------------------------------------------------------------+\n",
            "|Id        |tokens                                                                                                                                                                                                                                                                                                                                                                                                                                                                                                                                                                                                                                                                                                                                                                                                                                                                                                                                                                                                                                                                                                                                                                                                                                                                                                                                                                                                                                                                                                                                                                                                                                                                                                                                                                                                                                                                                                                                                                                                                                                                                                                                                                                                                                                                                                                                                                                                                                                                                                                                                                                                                                                                                                                                                                                                                                                                                                                                                                                                                                                                                                                            |features                                                                                                                                                                                                                                                                                                                                                                                                                                                                                                                                                                                                                                                                                                                                                                                                                                                                                                                                                                                                                                                                                                                                                                                                                                                                                                                                                                                                                                                                                                                                                                                                                                                                                                                                                                                                                                                                                                                                                                                                                                                                                                                                                                                                                                               |\n",
            "+----------+----------------------------------------------------------------------------------------------------------------------------------------------------------------------------------------------------------------------------------------------------------------------------------------------------------------------------------------------------------------------------------------------------------------------------------------------------------------------------------------------------------------------------------------------------------------------------------------------------------------------------------------------------------------------------------------------------------------------------------------------------------------------------------------------------------------------------------------------------------------------------------------------------------------------------------------------------------------------------------------------------------------------------------------------------------------------------------------------------------------------------------------------------------------------------------------------------------------------------------------------------------------------------------------------------------------------------------------------------------------------------------------------------------------------------------------------------------------------------------------------------------------------------------------------------------------------------------------------------------------------------------------------------------------------------------------------------------------------------------------------------------------------------------------------------------------------------------------------------------------------------------------------------------------------------------------------------------------------------------------------------------------------------------------------------------------------------------------------------------------------------------------------------------------------------------------------------------------------------------------------------------------------------------------------------------------------------------------------------------------------------------------------------------------------------------------------------------------------------------------------------------------------------------------------------------------------------------------------------------------------------------------------------------------------------------------------------------------------------------------------------------------------------------------------------------------------------------------------------------------------------------------------------------------------------------------------------------------------------------------------------------------------------------------------------------------------------------------------------------------------------------+-------------------------------------------------------------------------------------------------------------------------------------------------------------------------------------------------------------------------------------------------------------------------------------------------------------------------------------------------------------------------------------------------------------------------------------------------------------------------------------------------------------------------------------------------------------------------------------------------------------------------------------------------------------------------------------------------------------------------------------------------------------------------------------------------------------------------------------------------------------------------------------------------------------------------------------------------------------------------------------------------------------------------------------------------------------------------------------------------------------------------------------------------------------------------------------------------------------------------------------------------------------------------------------------------------------------------------------------------------------------------------------------------------------------------------------------------------------------------------------------------------------------------------------------------------------------------------------------------------------------------------------------------------------------------------------------------------------------------------------------------------------------------------------------------------------------------------------------------------------------------------------------------------------------------------------------------------------------------------------------------------------------------------------------------------------------------------------------------------------------------------------------------------------------------------------------------------------------------------------------------------+\n",
            "|1882931173|[julie, strain, fans, collection, photos, 80, pages, worth, nice, section, paintings, oliviaif, youre, looking, heavy, literary, content, isnt, place, find, theres, pages, text, everything, else, photosbottom, line, want, one, book, six, foot, one, probably, better, choice, however, like, julie, like, like, julie, wont, go, wrong, one, either]                                                                                                                                                                                                                                                                                                                                                                                                                                                                                                                                                                                                                                                                                                                                                                                                                                                                                                                                                                                                                                                                                                                                                                                                                                                                                                                                                                                                                                                                                                                                                                                                                                                                                                                                                                                                                                                                                                                                                                                                                                                                                                                                                                                                                                                                                                                                                                                                                                                                                                                                                                                                                                                                                                                                                                         |(21205,[0,1,2,3,4,5,6,7,8,9,10,11,12,13,14,15,16,17,18,19,20,21,22,23,24,25,26,27,28,29,30,31,32,33,34,35,36,37,38,39],[1.0,1.0,1.0,1.0,1.0,1.0,1.0,1.0,1.0,1.0,1.0,1.0,1.0,1.0,1.0,1.0,1.0,1.0,1.0,1.0,1.0,1.0,1.0,1.0,1.0,1.0,1.0,1.0,1.0,1.0,1.0,1.0,1.0,1.0,1.0,1.0,1.0,1.0,1.0,1.0])                                                                                                                                                                                                                                                                                                                                                                                                                                                                                                                                                                                                                                                                                                                                                                                                                                                                                                                                                                                                                                                                                                                                                                                                                                                                                                                                                                                                                                                                                                                                                                                                                                                                                                                                                                                                                                                                                                                                                              |\n",
            "|0826414346|[dont, care, much, dr, seuss, reading, philip, nels, book, changed, mindthats, good, testimonial, power, rels, writing, thinking, rel, plays, dr, seuss, ultimate, compliment, treating, serious, poet, well, one, 20th, centurys, interesting, visual, artists, reading, book, decided, trip, mandeville, collections, library, university, california, san, diego, order, visit, incredible, seussgeisel, holdings, theretheres, almost, much, take, like, william, butler, yeats, seuss, led, career, constantly, shifted, metamoprhized, meet, new, historical, political, cirsumstances, seems, leftist, conservative, different, junctures, career, politics, art, nel, shows, us, cartoonist, fabled, pm, magazine, like, andy, warhol, served, time, slaving, ad, business, service, amusing, broadening, minds, us, children, nel, doesnt, hesitate, administer, sound, spanking, seuss, industry, since, death, seen, fit, license, kinds, awful, products, including, recent, cat, hat, film, mike, myers, oh, catastrophethe, book, great, can, especially, recommend, work, picture, editor, given, us, bounty, good, illustrations]                                                                                                                                                                                                                                                                                                                                                                                                                                                                                                                                                                                                                                                                                                                                                                                                                                                                                                                                                                                                                                                                                                                                                                                                                                                                                                                                                                                                                                                                                                                                                                                                                                                                                                                                                                                                                                                                                                                                                                                 |(21205,[27,28,35,40,41,42,43,44,45,46,47,48,49,50,51,52,53,54,55,56,57,58,59,60,61,62,63,64,65,66,67,68,69,70,71,72,73,74,75,76,77,78,79,80,81,82,83,84,85,86,87,88,89,90,91,92,93,94,95,96,97,98,99,100,101,102,103,104,105,106,107,108,109,110,111,112,113,114,115,116,117,118,119,120,121,122,123,124,125,126,127,128,129,130,131,132,133,134,135,136,137,138,139,140,141,142,143,144,145,146,147,148,149,150,151,152,153,154,155,156,157],[1.0,1.0,1.0,1.0,1.0,1.0,1.0,1.0,1.0,1.0,1.0,1.0,1.0,1.0,1.0,1.0,1.0,1.0,1.0,1.0,1.0,1.0,1.0,1.0,1.0,1.0,1.0,1.0,1.0,1.0,1.0,1.0,1.0,1.0,1.0,1.0,1.0,1.0,1.0,1.0,1.0,1.0,1.0,1.0,1.0,1.0,1.0,1.0,1.0,1.0,1.0,1.0,1.0,1.0,1.0,1.0,1.0,1.0,1.0,1.0,1.0,1.0,1.0,1.0,1.0,1.0,1.0,1.0,1.0,1.0,1.0,1.0,1.0,1.0,1.0,1.0,1.0,1.0,1.0,1.0,1.0,1.0,1.0,1.0,1.0,1.0,1.0,1.0,1.0,1.0,1.0,1.0,1.0,1.0,1.0,1.0,1.0,1.0,1.0,1.0,1.0,1.0,1.0,1.0,1.0,1.0,1.0,1.0,1.0,1.0,1.0,1.0,1.0,1.0,1.0,1.0,1.0,1.0,1.0,1.0,1.0])                                                                                                                                                                                                                                                                                                                                                                                                                                                                                                                                                                                                                                                                                                                                                                                                                                                                                                                                                                                                                                                                                                                                                                                                                                                                                                   |\n",
            "|0826414346|[people, become, books, read, child, father, man, dr, seuss, theodor, seuss, geisel, influential, author, poet, artist, modern, times, daddy, large, family, learned, read, dr, seuss, memorized, many, books, via, repeated, readings, young, children, prof, nels, brilliant, american, icon, long, awaited, treat, last, serious, treatment, remarkable, genius, engaging, read, filled, remarkable, insights, especially, enjoyed, learned, care, admit, prof, nels, discussions, disneyfication, seuss, nel, links, failings, american, copyright, law, sides, dr, seuss, sides, new, political, genesis, secular, morality, wwii, cartoon, work, pm, magazine, chapters, geisels, poetry, artwork, link, nel, makes, seuss, historical, avant, guarde, alone, make, book, must, buy, parents, serious, readers, mention, public, libraries, readers, nels, books, will, find, engaging, writing, style, makes, book, fun, read, imparting, mountain, information, important, ideas, simply, best, comprehensive, book, yet, written, work, seuss, geisel, will, certainly, standard, many, years, come, thank, prof, nel, wherever, reader, grew, good, doctor, growing, years, later, book, written, encyclopeadic, knowledge, childrens, literature, media, genre, scanning, verse, cubist, painting, explains, power, limits, popularity, seuss, phenomenon]                                                                                                                                                                                                                                                                                                                                                                                                                                                                                                                                                                                                                                                                                                                                                                                                                                                                                                                                                                                                                                                                                                                                                                                                                                                                                                                                                                                                                                                                                                                                                                                                                                                                                                                                                             |(21205,[19,28,41,43,44,47,50,52,54,61,62,95,96,97,106,111,112,124,150,152,158,159,160,161,162,163,164,165,166,167,168,169,170,171,172,173,174,175,176,177,178,179,180,181,182,183,184,185,186,187,188,189,190,191,192,193,194,195,196,197,198,199,200,201,202,203,204,205,206,207,208,209,210,211,212,213,214,215,216,217,218,219,220,221,222,223,224,225,226,227,228,229,230,231,232,233,234,235,236,237,238,239,240,241,242,243,244,245,246,247,248,249,250,251,252,253,254,255,256,257,258,259,260,261,262,263,264],[1.0,1.0,1.0,1.0,1.0,1.0,1.0,1.0,1.0,1.0,1.0,1.0,1.0,1.0,1.0,1.0,1.0,1.0,1.0,1.0,1.0,1.0,1.0,1.0,1.0,1.0,1.0,1.0,1.0,1.0,1.0,1.0,1.0,1.0,1.0,1.0,1.0,1.0,1.0,1.0,1.0,1.0,1.0,1.0,1.0,1.0,1.0,1.0,1.0,1.0,1.0,1.0,1.0,1.0,1.0,1.0,1.0,1.0,1.0,1.0,1.0,1.0,1.0,1.0,1.0,1.0,1.0,1.0,1.0,1.0,1.0,1.0,1.0,1.0,1.0,1.0,1.0,1.0,1.0,1.0,1.0,1.0,1.0,1.0,1.0,1.0,1.0,1.0,1.0,1.0,1.0,1.0,1.0,1.0,1.0,1.0,1.0,1.0,1.0,1.0,1.0,1.0,1.0,1.0,1.0,1.0,1.0,1.0,1.0,1.0,1.0,1.0,1.0,1.0,1.0,1.0,1.0,1.0,1.0,1.0,1.0,1.0,1.0,1.0,1.0,1.0,1.0])                                                                                                                                                                                                                                                                                                                                                                                                                                                                                                                                                                                                                                                                                                                                                                                                                                                                                                                                                                                                                                                                                                                                                                                                  |\n",
            "|0826414346|[theodore, seuss, geisel, 19041991, aka, quotdr, seussquot, one, influential, writers, artists, 20th, centuryin, 1959, rudolf, flesch, wrote, quota, hundred, years, now, children, parents, will, still, eagerly, read, books, fellow, called, ted, geisel, popularly, known, dr, seussquotflesch, conservative, prediction, century, today, dr, seuss, will, still, read, many, authors, todays, bestseller, lists, will, forgottenpublished, centenary, geisels, birth, dr, seuss, american, icon, analyzes, six, key, aspects, seusss, career, poetry, politics, art, biography, marketing, influencein, six, insightful, chapters, philip, nel, assistant, professor, english, kansas, state, university, discusses, quotus, laureate, nonsensequot, quotdr, seuss, vs, adolf, hitlerquot, quotthe, doc, smockquot, quotthe, 5000, fingers, dr, squot, quotthe, disneyfication, dr, seussquot, quotthe, cat, hat, presidentquotnel, gives, short, shrift, geisels, childhood, family, backgroundand, indeed, biography, generalpreferring, focus, seusss, writing, art, first, book, think, saw, mulberry, street, 1937, last, book, oh, places, youll, go, 1990dr, seusss, breakthrough, year, 1957, published, two, books, often, identified, cat, hat, grinch, stole, christmasother, classic, works, seussian, canon, horton, hears, quota, persons, person, matter, smallquot, yertle, turtle, modeled, rise, adolf, hitler, green, eggs, ham, seusss, bestselling, book, sneeches, criticism, antisemitism, lorax, protest, corporate, abuse, environment, butter, battle, book, critique, reagans, enthusiasm, nuclear, arms, tracehis, favorite, work, among, books, authored, cat, hat, taught, children, readwhile, many, books, clear, powerful, moral, seuss, horror, heavyhanded, preaching, sought, teach, ignite, imagination, lifelong, opponent, smug, selfrighteous, bourgeois, moralismquotseuss, contrarianquot, writes, nel, quotwho, enjoyed, challenging, people, reconsider, assumptions, rebellious, imagination, dispositional, distaste, rules, regulationsquot, work, quotrational, insanityquot, exhibited, quotjoyous, anarchyquot, quotlifelong, thrill, misbehavingquota, better, subtitle, nels, work, american, icon, iconoclastnel, tells, seusss, early, years, advertising, artist, agitprop, cartoonist, book, however, biography, serious, study, genres, literary, art, criticismfor, readers, want, biographical, information, nel, recommends, dr, seuss, mr, geisel, judith, morgan, neil, morgan, 1995, describes, quotthe, definitive, biography, single, best, secondary, source, seuss, discussion, seusss, life, work, must, begin, bookquotdr, seuss, american, icon, includes, 103, pages, notes, index, comprehensive, annotated, seuss, bibliography, ever, assembled, one, learns, lot, book, authors, lucid, style, makes, enlightening, work, fun, readphilip, nel, author, rowlings, harry, potter, novels, readers, guide, 2001, avantgarde, american, postmodernity, 2002roy, perry, nolensville, tennessee, advertising, copywriter, nashville, publishing, house]|(21205,[6,15,26,27,28,29,32,34,37,43,44,46,47,54,61,64,68,74,90,101,104,105,106,109,124,141,142,146,152,158,160,161,166,167,168,169,174,177,184,185,189,196,199,210,211,212,215,220,222,223,227,228,229,232,236,237,242,265,266,267,268,269,270,271,272,273,274,275,276,277,278,279,280,281,282,283,284,285,286,287,288,289,290,291,292,293,294,295,296,297,298,299,300,301,302,303,304,305,306,307,308,309,310,311,312,313,314,315,316,317,318,319,320,321,322,323,324,325,326,327,328,329,330,331,332,333,334,335,336,337,338,339,340,341,342,343,344,345,346,347,348,349,350,351,352,353,354,355,356,357,358,359,360,361,362,363,364,365,366,367,368,369,370,371,372,373,374,375,376,377,378,379,380,381,382,383,384,385,386,387,388,389,390,391,392,393,394,395,396,397,398,399,400,401,402,403,404,405,406,407,408,409,410,411,412,413,414,415,416,417,418,419,420,421,422,423,424,425,426,427,428,429,430,431,432,433,434,435,436,437,438,439,440,441,442,443,444,445,446,447,448,449,450,451,452,453,454,455,456,457,458,459,460,461,462,463,464,465,466,467,468,469,470,471,472,473,474,475,476,477,478,479],[1.0,1.0,1.0,1.0,1.0,1.0,1.0,1.0,1.0,1.0,1.0,1.0,1.0,1.0,1.0,1.0,1.0,1.0,1.0,1.0,1.0,1.0,1.0,1.0,1.0,1.0,1.0,1.0,1.0,1.0,1.0,1.0,1.0,1.0,1.0,1.0,1.0,1.0,1.0,1.0,1.0,1.0,1.0,1.0,1.0,1.0,1.0,1.0,1.0,1.0,1.0,1.0,1.0,1.0,1.0,1.0,1.0,1.0,1.0,1.0,1.0,1.0,1.0,1.0,1.0,1.0,1.0,1.0,1.0,1.0,1.0,1.0,1.0,1.0,1.0,1.0,1.0,1.0,1.0,1.0,1.0,1.0,1.0,1.0,1.0,1.0,1.0,1.0,1.0,1.0,1.0,1.0,1.0,1.0,1.0,1.0,1.0,1.0,1.0,1.0,1.0,1.0,1.0,1.0,1.0,1.0,1.0,1.0,1.0,1.0,1.0,1.0,1.0,1.0,1.0,1.0,1.0,1.0,1.0,1.0,1.0,1.0,1.0,1.0,1.0,1.0,1.0,1.0,1.0,1.0,1.0,1.0,1.0,1.0,1.0,1.0,1.0,1.0,1.0,1.0,1.0,1.0,1.0,1.0,1.0,1.0,1.0,1.0,1.0,1.0,1.0,1.0,1.0,1.0,1.0,1.0,1.0,1.0,1.0,1.0,1.0,1.0,1.0,1.0,1.0,1.0,1.0,1.0,1.0,1.0,1.0,1.0,1.0,1.0,1.0,1.0,1.0,1.0,1.0,1.0,1.0,1.0,1.0,1.0,1.0,1.0,1.0,1.0,1.0,1.0,1.0,1.0,1.0,1.0,1.0,1.0,1.0,1.0,1.0,1.0,1.0,1.0,1.0,1.0,1.0,1.0,1.0,1.0,1.0,1.0,1.0,1.0,1.0,1.0,1.0,1.0,1.0,1.0,1.0,1.0,1.0,1.0,1.0,1.0,1.0,1.0,1.0,1.0,1.0,1.0,1.0,1.0,1.0,1.0,1.0,1.0,1.0,1.0,1.0,1.0,1.0,1.0,1.0,1.0,1.0,1.0,1.0,1.0,1.0,1.0,1.0,1.0,1.0,1.0,1.0,1.0,1.0,1.0,1.0,1.0,1.0,1.0,1.0,1.0,1.0,1.0,1.0,1.0,1.0,1.0,1.0,1.0])|\n",
            "|0826414346|[philip, nel, dr, seuss, american, iconthis, basically, academic, overview, seuss, poetry, art, cartoons, problems, commercialization, seuss, name, works, death, real, extent, biography, seeking, move, onas, academic, book, leans, dry, side, assumes, reader, fairly, good, knowledge, childrens, literature, 20th, century, cartoons, animated, kind, book, begin, dr, seuss, experience, read, children, interested, writing, style, good, chapter, poetry, art, style, good, chapter, still, interestingwhat, interested, deconstruction, recent, rush, cash, seuss, hollywood, advertisers, think, nel, wants, come, based, seuss, background, started, drawing, flit, ads, projects, approved, lifetime, tough, argument, make, end, though, nel, point, maybe, movies, tie, ins, crassthe, book, well, researched, lots, neat, tidbits, gleamed, early, cartoons, seuss, pm, magazine, occasionally, todays, standards, shockingly, racist, makes, little, human, puts, latter, works, like, lorax, new, lightthose, education, may, enjoy, background, fans, seuss, will, enjoy, exhaustive, bibliography, seusss, many, many, works, also, good, list, works, man]                                                                                                                                                                                                                                                                                                                                                                                                                                                                                                                                                                                                                                                                                                                                                                                                                                                                                                                                                                                                                                                                                                                                                                                                                                                                                                                                                                                                                                                                                                                                                                                                                                                                                                                                                                                                                                                                                                                                                   |(21205,[2,28,35,43,44,46,50,54,63,64,95,105,106,111,112,124,132,140,161,164,177,184,212,215,219,227,228,243,246,252,253,254,279,288,291,300,301,333,352,373,429,449,456,480,481,482,483,484,485,486,487,488,489,490,491,492,493,494,495,496,497,498,499,500,501,502,503,504,505,506,507,508,509,510,511,512,513,514,515,516,517,518,519,520,521,522,523,524,525,526,527,528,529,530,531,532,533,534,535,536,537,538,539,540,541,542,543,544,545,546,547,548],[1.0,1.0,1.0,1.0,1.0,1.0,1.0,1.0,1.0,1.0,1.0,1.0,1.0,1.0,1.0,1.0,1.0,1.0,1.0,1.0,1.0,1.0,1.0,1.0,1.0,1.0,1.0,1.0,1.0,1.0,1.0,1.0,1.0,1.0,1.0,1.0,1.0,1.0,1.0,1.0,1.0,1.0,1.0,1.0,1.0,1.0,1.0,1.0,1.0,1.0,1.0,1.0,1.0,1.0,1.0,1.0,1.0,1.0,1.0,1.0,1.0,1.0,1.0,1.0,1.0,1.0,1.0,1.0,1.0,1.0,1.0,1.0,1.0,1.0,1.0,1.0,1.0,1.0,1.0,1.0,1.0,1.0,1.0,1.0,1.0,1.0,1.0,1.0,1.0,1.0,1.0,1.0,1.0,1.0,1.0,1.0,1.0,1.0,1.0,1.0,1.0,1.0,1.0,1.0,1.0,1.0,1.0,1.0,1.0,1.0,1.0,1.0])                                                                                                                                                                                                                                                                                                                                                                                                                                                                                                                                                                                                                                                                                                                                                                                                                                                                                                                                                                                                                                                                                                                                                                                                                                                                                                                        |\n",
            "+----------+----------------------------------------------------------------------------------------------------------------------------------------------------------------------------------------------------------------------------------------------------------------------------------------------------------------------------------------------------------------------------------------------------------------------------------------------------------------------------------------------------------------------------------------------------------------------------------------------------------------------------------------------------------------------------------------------------------------------------------------------------------------------------------------------------------------------------------------------------------------------------------------------------------------------------------------------------------------------------------------------------------------------------------------------------------------------------------------------------------------------------------------------------------------------------------------------------------------------------------------------------------------------------------------------------------------------------------------------------------------------------------------------------------------------------------------------------------------------------------------------------------------------------------------------------------------------------------------------------------------------------------------------------------------------------------------------------------------------------------------------------------------------------------------------------------------------------------------------------------------------------------------------------------------------------------------------------------------------------------------------------------------------------------------------------------------------------------------------------------------------------------------------------------------------------------------------------------------------------------------------------------------------------------------------------------------------------------------------------------------------------------------------------------------------------------------------------------------------------------------------------------------------------------------------------------------------------------------------------------------------------------------------------------------------------------------------------------------------------------------------------------------------------------------------------------------------------------------------------------------------------------------------------------------------------------------------------------------------------------------------------------------------------------------------------------------------------------------------------------------------------------+-------------------------------------------------------------------------------------------------------------------------------------------------------------------------------------------------------------------------------------------------------------------------------------------------------------------------------------------------------------------------------------------------------------------------------------------------------------------------------------------------------------------------------------------------------------------------------------------------------------------------------------------------------------------------------------------------------------------------------------------------------------------------------------------------------------------------------------------------------------------------------------------------------------------------------------------------------------------------------------------------------------------------------------------------------------------------------------------------------------------------------------------------------------------------------------------------------------------------------------------------------------------------------------------------------------------------------------------------------------------------------------------------------------------------------------------------------------------------------------------------------------------------------------------------------------------------------------------------------------------------------------------------------------------------------------------------------------------------------------------------------------------------------------------------------------------------------------------------------------------------------------------------------------------------------------------------------------------------------------------------------------------------------------------------------------------------------------------------------------------------------------------------------------------------------------------------------------------------------------------------------+\n",
            "only showing top 5 rows\n",
            "\n",
            "Setting up MinHashLSH model...\n",
            "Transforming data with LSH model...\n",
            "+----------+----------------------------------------------------------------------------------------------------+-----------------------------------------------------------------------+\n",
            "|        Id|                                                                                            features|                                                                 hashes|\n",
            "+----------+----------------------------------------------------------------------------------------------------+-----------------------------------------------------------------------+\n",
            "|1882931173|(21205,[0,1,2,3,4,5,6,7,8,9,10,11,12,13,14,15,16,17,18,19,20,21,22,23,24,25,26,27,28,29,30,31,32,...|[[4.8250036E7], [1.7779707E7], [8839963.0], [1735568.0], [1.0533018E7]]|\n",
            "|0826414346|(21205,[27,28,35,40,41,42,43,44,45,46,47,48,49,50,51,52,53,54,55,56,57,58,59,60,61,62,63,64,65,66...|    [[3.71094E7], [2587260.0], [7329495.0], [1.5728511E7], [7171936.0]]|\n",
            "|0826414346|(21205,[19,28,41,43,44,47,50,52,54,61,62,95,96,97,106,111,112,124,150,152,158,159,160,161,162,163...| [[2.5968764E7], [5.2307394E7], [5819027.0], [1.0685113E7], [449772.0]]|\n",
            "|0826414346|(21205,[6,15,26,27,28,29,32,34,37,43,44,46,47,54,61,64,68,74,90,101,104,105,106,109,124,141,142,1...|        [[6472651.0], [6730053.0], [1287623.0], [598317.0], [449772.0]]|\n",
            "|0826414346|(21205,[2,28,35,43,44,46,50,54,63,64,95,105,106,111,112,124,132,140,161,164,177,184,212,215,219,2...|   [[902333.0], [1665904.0], [4308559.0], [2.8584203E7], [4.2430524E7]]|\n",
            "+----------+----------------------------------------------------------------------------------------------------+-----------------------------------------------------------------------+\n",
            "only showing top 5 rows\n",
            "\n",
            "\n",
            "Finding approximate similar pairs with Jaccard distance threshold <= 0.5...\n",
            "approxSimilarityJoin took 0.30 seconds.\n",
            "No pairs found by LSH with Jaccard distance <= 0.5.\n"
          ]
        }
      ],
      "source": [
        "from pyspark.ml.feature import MinHashLSH\n",
        "from pyspark.ml.linalg import Vectors\n",
        "from pyspark.sql.types import Row\n",
        "import time\n",
        "\n",
        "# Sample for LSH\n",
        "sample_df = df.select(\"Id\", review_column_name).na.drop().filter(col(review_column_name) != \"\").limit(2000)\n",
        "processed_rdd = sample_df.rdd.map(lambda row: (row[\"Id\"], preprocess_review_text(row[review_column_name])))\n",
        "\n",
        "# Build vocabulary\n",
        "vocabulary_list = processed_rdd.flatMap(lambda x: x[1]).distinct().collect()\n",
        "vocab_map = {word: i for i, word in enumerate(vocabulary_list)}\n",
        "vocab_size = len(vocab_map)\n",
        "print(f\"Vocabulary size: {vocab_size}\")\n",
        "\n",
        "def tokens_to_sparse_vector(tokens, vocab_map_local, vocab_size_local):\n",
        "    indices = sorted([vocab_map_local[token] for token in set(tokens) if token in vocab_map_local])\n",
        "    values = [1.0] * len(indices)\n",
        "    return Vectors.sparse(vocab_size_local, indices, values)\n",
        "\n",
        "vectorized_rdd = processed_rdd.map(lambda x: Row(Id=x[0], tokens=x[1], features=tokens_to_sparse_vector(x[1], vocab_map, vocab_size)))\n",
        "vectorized_df = spark.createDataFrame(vectorized_rdd)\n",
        "vectorized_df.show(5, truncate=False)\n",
        "\n",
        "print(\"Setting up MinHashLSH model...\")\n",
        "mh = MinHashLSH(inputCol=\"features\", outputCol=\"hashes\", numHashTables=5, seed=42)\n",
        "model = mh.fit(vectorized_df)\n",
        "\n",
        "print(\"Transforming data with LSH model...\")\n",
        "transformed_df = model.transform(vectorized_df)\n",
        "transformed_df.select(\"Id\", \"features\", \"hashes\").show(5, truncate=100)\n",
        "\n",
        "lsh_threshold = 0.5\n",
        "print(f\"\\nFinding approximate similar pairs with Jaccard distance threshold <= {lsh_threshold}...\")\n",
        "start_time = time.time()\n",
        "similar_pairs = model.approxSimilarityJoin(transformed_df, transformed_df, threshold=lsh_threshold, distCol=\"JaccardDistance\")\n",
        "end_time = time.time()\n",
        "\n",
        "print(f\"approxSimilarityJoin took {end_time - start_time:.2f} seconds.\")\n",
        "\n",
        "results_df = similar_pairs.select(\n",
        "    col(\"datasetA.Id\").alias(\"IdA\"),\n",
        "    col(\"datasetB.Id\").alias(\"IdB\"),\n",
        "    col(\"JaccardDistance\")\n",
        ").filter(col(\"IdA\") < col(\"IdB\"))\n",
        "\n",
        "collected_lsh_pairs = results_df.collect()\n",
        "\n",
        "if not collected_lsh_pairs:\n",
        "    print(f\"No pairs found by LSH with Jaccard distance <= {lsh_threshold}.\")\n",
        "else:\n",
        "    print(f\"Found {len(collected_lsh_pairs)} candidate pairs by LSH:\")\n",
        "    for row in collected_lsh_pairs[:10]:  # Show first 10\n",
        "        similarity = 1 - row.JaccardDistance\n",
        "        print(f\"Pair: ({row.IdA}, {row.IdB}), Approx Jaccard Similarity: {similarity:.4f} (Distance: {row.JaccardDistance:.4f})\")"
      ]
    },
    {
      "cell_type": "markdown",
      "metadata": {
        "id": "4rZesH7Rvbnw"
      },
      "source": [
        "## 11. Algorithm Comparison\n",
        "Compare the performance and results of different similarity algorithms."
      ]
    },
    {
      "cell_type": "code",
      "execution_count": 15,
      "metadata": {
        "id": "Wa-L3lO4vbnw",
        "colab": {
          "base_uri": "https://localhost:8080/",
          "height": 1000
        },
        "outputId": "ca10e04d-ba4e-4f8e-ef53-cdf1b6eaa3ab"
      },
      "outputs": [
        {
          "output_type": "stream",
          "name": "stdout",
          "text": [
            "Loading full dataset for comparison...\n",
            "\n",
            "Preparing sample of 200 reviews for comparisons...\n",
            "\n",
            "Running Cartesian Jaccard Similarity...\n",
            "Cartesian Jaccard found 1 pairs in 1.51s.\n",
            "\n",
            "Running Cartesian Cosine Similarity (TF-IDF)...\n",
            "IDF map calculated for 13308 terms from 1000 docs.\n",
            "Cartesian Cosine (TF-IDF) found 1 pairs in 7.84s.\n",
            "\n",
            "Running MinHashLSH for Jaccard...\n",
            "MinHashLSH (Jaccard) found 0 pairs in 5.47s.\n",
            "\n",
            "==================================================\n",
            "ALGORITHM COMPARISON RESULTS\n",
            "==================================================\n",
            "Cartesian Jaccard:\n",
            "  Time: 1.51 seconds\n",
            "  Similar pairs found: 1\n",
            "\n",
            "Cartesian Cosine (TF-IDF):\n",
            "  Time: 7.84 seconds\n",
            "  Similar pairs found: 1\n",
            "\n",
            "MinHashLSH (Jaccard):\n",
            "  Time: 5.47 seconds\n",
            "  Similar pairs found: 0\n",
            "\n"
          ]
        },
        {
          "output_type": "display_data",
          "data": {
            "text/plain": [
              "<Figure size 1200x500 with 2 Axes>"
            ],
            "image/png": "[encoded data removed]"
          },
          "metadata": {}
        },
        {
          "output_type": "stream",
          "name": "stdout",
          "text": [
            "\n",
            "Comparison completed!\n",
            "\n",
            "Note: MinHashLSH is an approximate algorithm, so results may vary slightly from exact methods.\n"
          ]
        }
      ],
      "source": [
        "import time\n",
        "import matplotlib.pyplot as plt\n",
        "import numpy as np\n",
        "\n",
        "# Set up comparison parameters\n",
        "N_comparison_sample = 200\n",
        "N_idf_sample = 1000\n",
        "jaccard_threshold = 0.5\n",
        "cosine_threshold = 0.7\n",
        "lsh_jaccard_distance_threshold = 0.5\n",
        "\n",
        "results = {\n",
        "    \"algorithms\": [],\n",
        "    \"times\": [],\n",
        "    \"num_pairs\": []\n",
        "}\n",
        "\n",
        "print(f\"Loading full dataset for comparison...\")\n",
        "df_full = spark.read.csv(dataset_path, header=True, inferSchema=True, escape='\"') \\\n",
        "    .select(\"Id\", review_column_name) \\\n",
        "    .na.drop(subset=[review_column_name]) \\\n",
        "    .filter(col(review_column_name) != \"\")\n",
        "\n",
        "df_full.cache()\n",
        "df_full.count()\n",
        "\n",
        "# Prepare comparison sample\n",
        "print(f\"\\nPreparing sample of {N_comparison_sample} reviews for comparisons...\")\n",
        "comparison_sample_df = df_full.limit(N_comparison_sample).persist()\n",
        "comparison_sample_docs_with_id_rdd = comparison_sample_df.rdd.map(\n",
        "    lambda row: (row[\"Id\"], preprocess_review_text(row[review_column_name]))\n",
        ").zipWithIndex().map(lambda x: (x[1], (x[0][0], x[0][1])))\n",
        "comparison_sample_docs_with_id_rdd.cache()\n",
        "comparison_sample_docs_with_id_rdd.count()\n",
        "\n",
        "# 1. Cartesian Jaccard Similarity\n",
        "print(\"\\nRunning Cartesian Jaccard Similarity...\")\n",
        "algo_name = \"Cartesian Jaccard\"\n",
        "start_time = time.time()\n",
        "\n",
        "jaccard_input_rdd = comparison_sample_docs_with_id_rdd.mapValues(lambda x: (x[0], set(x[1])))\n",
        "cartesian_jaccard_pairs = jaccard_input_rdd.cartesian(jaccard_input_rdd)\n",
        "\n",
        "def process_jaccard_pair(pair_data):\n",
        "    (idx1, (orig_id1, tokens1)), (idx2, (orig_id2, tokens2)) = pair_data\n",
        "    if idx1 < idx2:\n",
        "        sim = jaccard_similarity(tokens1, tokens2)\n",
        "        if sim >= jaccard_threshold:\n",
        "            return ((orig_id1, orig_id2), sim)\n",
        "    return None\n",
        "\n",
        "similar_jaccard_pairs = cartesian_jaccard_pairs.map(process_jaccard_pair).filter(lambda x: x is not None).collect()\n",
        "end_time = time.time()\n",
        "results[\"algorithms\"].append(algo_name)\n",
        "results[\"times\"].append(end_time - start_time)\n",
        "results[\"num_pairs\"].append(len(similar_jaccard_pairs))\n",
        "print(f\"{algo_name} found {len(similar_jaccard_pairs)} pairs in {end_time - start_time:.2f}s.\")\n",
        "\n",
        "# 2. Cartesian Cosine Similarity (with TF-IDF)\n",
        "print(\"\\nRunning Cartesian Cosine Similarity (TF-IDF)...\")\n",
        "algo_name = \"Cartesian Cosine (TF-IDF)\"\n",
        "start_time = time.time()\n",
        "\n",
        "# IDF Model Calculation\n",
        "idf_model_sample_df = df_full.limit(N_idf_sample)\n",
        "processed_idf_rdd = idf_model_sample_df.rdd.map(lambda row: preprocess_review_text(row[review_column_name]))\n",
        "processed_idf_rdd.cache()\n",
        "num_docs_for_idf = processed_idf_rdd.count()\n",
        "\n",
        "idf_map_val = calculate_idf(processed_idf_rdd, num_docs_for_idf)\n",
        "broadcast_idf = sc.broadcast(idf_map_val)\n",
        "processed_idf_rdd.unpersist()\n",
        "print(f\"IDF map calculated for {len(idf_map_val)} terms from {num_docs_for_idf} docs.\")\n",
        "\n",
        "# TF-IDF vectors for the comparison sample\n",
        "tfidf_input_rdd = comparison_sample_docs_with_id_rdd.mapValues(\n",
        "    lambda x: (x[0], get_tfidf_vector(x[1], broadcast_idf))\n",
        ")\n",
        "\n",
        "cartesian_cosine_pairs = tfidf_input_rdd.cartesian(tfidf_input_rdd)\n",
        "\n",
        "def process_cosine_pair(pair_data):\n",
        "    (idx1, (orig_id1, vec1)), (idx2, (orig_id2, vec2)) = pair_data\n",
        "    if idx1 < idx2:\n",
        "        sim = cosine_similarity(vec1, vec2)\n",
        "        if sim >= cosine_threshold:\n",
        "            return ((orig_id1, orig_id2), sim)\n",
        "    return None\n",
        "\n",
        "similar_cosine_pairs = cartesian_cosine_pairs.map(process_cosine_pair).filter(lambda x: x is not None).collect()\n",
        "broadcast_idf.destroy()\n",
        "end_time = time.time()\n",
        "results[\"algorithms\"].append(algo_name)\n",
        "results[\"times\"].append(end_time - start_time)\n",
        "results[\"num_pairs\"].append(len(similar_cosine_pairs))\n",
        "print(f\"{algo_name} found {len(similar_cosine_pairs)} pairs in {end_time - start_time:.2f}s.\")\n",
        "\n",
        "# 3. MinHashLSH for Jaccard\n",
        "print(\"\\nRunning MinHashLSH for Jaccard...\")\n",
        "algo_name = \"MinHashLSH (Jaccard)\"\n",
        "start_time = time.time()\n",
        "\n",
        "# Build vocabulary from the comparison sample\n",
        "lsh_vocab_list = comparison_sample_docs_with_id_rdd.flatMap(lambda x: x[1][1]).distinct().collect()\n",
        "lsh_vocab_map = {word: i for i, word in enumerate(lsh_vocab_list)}\n",
        "lsh_vocab_size = len(lsh_vocab_map)\n",
        "\n",
        "def tokens_to_sparse_vector_lsh(doc_id_tokens_tuple, vocab_map_local, vocab_size_local):\n",
        "    doc_id, tokens = doc_id_tokens_tuple # Correctly unpack the tuple\n",
        "    indices = sorted([vocab_map_local[token] for token in set(tokens) if token in vocab_map_local])\n",
        "    values = [1.0] * len(indices)\n",
        "    return Row(Id=doc_id, features=Vectors.sparse(vocab_size_local, indices, values))\n",
        "\n",
        "# Pass the (original_id, tokens) tuple to the function\n",
        "lsh_vectorized_rdd = comparison_sample_docs_with_id_rdd.map(\n",
        "    lambda x: tokens_to_sparse_vector_lsh(x[1], lsh_vocab_map, lsh_vocab_size)\n",
        ")\n",
        "lsh_vectorized_df = spark.createDataFrame(lsh_vectorized_rdd)\n",
        "\n",
        "mh_lsh = MinHashLSH(inputCol=\"features\", outputCol=\"hashes\", numHashTables=5, seed=42)\n",
        "lsh_model = mh_lsh.fit(lsh_vectorized_df)\n",
        "lsh_transformed_df = lsh_model.transform(lsh_vectorized_df)\n",
        "\n",
        "lsh_similar_pairs = lsh_model.approxSimilarityJoin(lsh_transformed_df, lsh_transformed_df,\n",
        "                                                  threshold=lsh_jaccard_distance_threshold, distCol=\"JaccardDistance\")\n",
        "lsh_results_df = lsh_similar_pairs.select(\n",
        "    col(\"datasetA.Id\").alias(\"IdA\"),\n",
        "    col(\"datasetB.Id\").alias(\"IdB\"),\n",
        "    col(\"JaccardDistance\")\n",
        ").filter(col(\"IdA\") < col(\"IdB\"))\n",
        "\n",
        "lsh_collected_pairs = lsh_results_df.collect()\n",
        "end_time = time.time()\n",
        "results[\"algorithms\"].append(algo_name)\n",
        "results[\"times\"].append(end_time - start_time)\n",
        "results[\"num_pairs\"].append(len(lsh_collected_pairs))\n",
        "print(f\"{algo_name} found {len(lsh_collected_pairs)} pairs in {end_time - start_time:.2f}s.\")\n",
        "\n",
        "# Display results\n",
        "print(\"\\n\" + \"=\"*50)\n",
        "print(\"ALGORITHM COMPARISON RESULTS\")\n",
        "print(\"=\"*50)\n",
        "for i, algo in enumerate(results[\"algorithms\"]):\n",
        "    print(f\"{algo}:\")\n",
        "    print(f\"  Time: {results['times'][i]:.2f} seconds\")\n",
        "    print(f\"  Similar pairs found: {results['num_pairs'][i]}\")\n",
        "    print()\n",
        "\n",
        "# Create visualization\n",
        "plt.figure(figsize=(12, 5))\n",
        "\n",
        "# Time comparison\n",
        "plt.subplot(1, 2, 1)\n",
        "plt.bar(results[\"algorithms\"], results[\"times\"])\n",
        "plt.title(\"Execution Time Comparison\")\n",
        "plt.ylabel(\"Time (seconds)\")\n",
        "plt.xticks(rotation=45)\n",
        "\n",
        "# Number of pairs comparison\n",
        "plt.subplot(1, 2, 2)\n",
        "plt.bar(results[\"algorithms\"], results[\"num_pairs\"])\n",
        "plt.title(\"Number of Similar Pairs Found\")\n",
        "plt.ylabel(\"Number of Pairs\")\n",
        "plt.xticks(rotation=45)\n",
        "\n",
        "plt.tight_layout()\n",
        "plt.show()\n",
        "\n",
        "# Cleanup\n",
        "comparison_sample_docs_with_id_rdd.unpersist()\n",
        "comparison_sample_df.unpersist()\n",
        "df_full.unpersist()\n",
        "print(\"\\nComparison completed!\")\n",
        "print(\"\\nNote: MinHashLSH is an approximate algorithm, so results may vary slightly from exact methods.\")"
      ]
    },
    {
      "cell_type": "code",
      "source": [
        "# prompt: generate jaccard similarity algorithms with visualization\n",
        "\n",
        "# Add Jaccard Similarity Visualization\n",
        "jaccard_threshold = 0.5 # Define the threshold used for Jaccard similarity\n",
        "\n",
        "# Prepare data for visualization\n",
        "jaccard_scores = [pair[1] for pair in similar_jaccard_pairs]\n",
        "\n",
        "plt.figure(figsize=(8, 6))\n",
        "plt.hist(jaccard_scores, bins=30, edgecolor='black', alpha=0.7)\n",
        "plt.axvline(jaccard_threshold, color='red', linestyle='dashed', linewidth=1, label=f'Threshold ({jaccard_threshold})')\n",
        "plt.title('Distribution of Jaccard Similarity Scores (Sample)')\n",
        "plt.xlabel('Jaccard Similarity Score')\n",
        "plt.ylabel('Frequency')\n",
        "plt.legend()\n",
        "plt.grid(axis='y', alpha=0.5)\n",
        "plt.show()\n",
        "\n",
        "# Add LSH Jaccard Similarity Visualization\n",
        "lsh_jaccard_distances = [row.JaccardDistance for row in lsh_collected_pairs]\n",
        "lsh_jaccard_similarities = [1 - d for d in lsh_jaccard_distances]\n",
        "\n",
        "plt.figure(figsize=(8, 6))\n",
        "plt.hist(lsh_jaccard_similarities, bins=30, edgecolor='black', alpha=0.7)\n",
        "plt.axvline(1 - lsh_jaccard_distance_threshold, color='red', linestyle='dashed', linewidth=1, label=f'Equivalent Threshold ({1 - lsh_jaccard_distance_threshold:.2f})')\n",
        "plt.title('Distribution of Approximate Jaccard Similarity Scores (LSH Sample)')\n",
        "plt.xlabel('Approximate Jaccard Similarity Score')\n",
        "plt.ylabel('Frequency')\n",
        "plt.legend()\n",
        "plt.grid(axis='y', alpha=0.5)\n",
        "plt.show()\n"
      ],
      "metadata": {
        "colab": {
          "base_uri": "https://localhost:8080/",
          "height": 1000
        },
        "id": "bzyhuPmV32ER",
        "outputId": "8b2c17b6-2698-4a32-ecd9-a32a46388e3c"
      },
      "execution_count": 16,
      "outputs": [
        {
          "output_type": "display_data",
          "data": {
            "text/plain": [
              "<Figure size 800x600 with 1 Axes>"
            ],
            "image/png": "[encoded data removed]"
          },
          "metadata": {}
        },
        {
          "output_type": "display_data",
          "data": {
            "text/plain": [
              "<Figure size 800x600 with 1 Axes>"
            ],
            "image/png": "[encoded data removed]"
          },
          "metadata": {}
        }
      ]
    },
    {
      "cell_type": "markdown",
      "metadata": {
        "id": "R9YBe-FTvbnx"
      },
      "source": [
        "## 12. Cleanup\n",
        "Stop Spark session and clean up resources."
      ]
    },
    {
      "cell_type": "code",
      "execution_count": null,
      "metadata": {
        "id": "j_S82cACvbnx"
      },
      "outputs": [],
      "source": [
        "print(\"Stopping SparkSession...\")\n",
        "spark.stop()\n",
        "print(\"SparkSession stopped successfully.\")\n",
        "print(\"\\nAnalysis complete! The notebook has demonstrated:\")\n",
        "print(\"1. Data download and loading\")\n",
        "print(\"2. Text preprocessing (tokenization, stopword removal)\")\n",
        "print(\"3. Feature extraction (BoW, TF-IDF)\")\n",
        "print(\"4. Similarity calculations (Jaccard, Cosine, MinHash LSH)\")\n",
        "print(\"5. Algorithm comparison and performance analysis\")"
      ]
    },
    {
      "cell_type": "code",
      "metadata": {
        "colab": {
          "base_uri": "https://localhost:8080/"
        },
        "id": "5bbf7c4b",
        "outputId": "340bf841-9c4b-42d8-db0a-36ce56d031bc"
      },
      "source": [
        "import time\n",
        "import matplotlib.pyplot as plt\n",
        "import numpy as np\n",
        "\n",
        "# Set up comparison parameters\n",
        "N_comparison_sample = 1000 # Increased sample size\n",
        "N_idf_sample = 2000 # Increased IDF sample size\n",
        "jaccard_threshold = 0.4 # Slightly lowered threshold\n",
        "cosine_threshold = 0.6 # Slightly lowered threshold\n",
        "lsh_jaccard_distance_threshold = 0.6 # Increased distance threshold (lower similarity)\n",
        "\n",
        "results = {\n",
        "    \"algorithms\": [],\n",
        "    \"times\": [],\n",
        "    \"num_pairs\": []\n",
        "}\n",
        "\n",
        "print(f\"Loading full dataset for comparison...\")\n",
        "# df_full is already loaded and cached in the previous cell.\n",
        "# df_full = spark.read.csv(dataset_path, header=True, inferSchema=True, escape='\"') \\\n",
        "#     .select(\"Id\", review_column_name) \\\n",
        "#     .na.drop(subset=[review_column_name]) \\\n",
        "#     .filter(col(review_column_name) != \"\")\n",
        "\n",
        "# df_full.cache()\n",
        "# df_full.count()\n",
        "\n",
        "# Prepare comparison sample\n",
        "print(f\"\\nPreparing sample of {N_comparison_sample} reviews for comparisons...\")\n",
        "comparison_sample_df = df_full.limit(N_comparison_sample).persist()\n",
        "comparison_sample_docs_with_id_rdd = comparison_sample_df.rdd.map(\n",
        "    lambda row: (row[\"Id\"], preprocess_review_text(row[review_column_name]))\n",
        ").zipWithIndex().map(lambda x: (x[1], (x[0][0], x[0][1])))\n",
        "comparison_sample_docs_with_id_rdd.cache()\n",
        "comparison_sample_docs_with_id_rdd.count()\n",
        "\n",
        "# 1. Cartesian Jaccard Similarity\n",
        "print(\"\\nRunning Cartesian Jaccard Similarity...\")\n",
        "algo_name = \"Cartesian Jaccard\"\n",
        "start_time = time.time()\n",
        "\n",
        "jaccard_input_rdd = comparison_sample_docs_with_id_rdd.mapValues(lambda x: (x[0], set(x[1])))\n",
        "cartesian_jaccard_pairs = jaccard_input_rdd.cartesian(jaccard_input_rdd)\n",
        "\n",
        "def process_jaccard_pair(pair_data):\n",
        "    (idx1, (orig_id1, tokens1)), (idx2, (orig_id2, tokens2)) = pair_data\n",
        "    if idx1 < idx2:\n",
        "        sim = jaccard_similarity(tokens1, tokens2)\n",
        "        if sim >= jaccard_threshold:\n",
        "            return ((orig_id1, orig_id2), sim)\n",
        "    return None\n",
        "\n",
        "similar_jaccard_pairs = cartesian_jaccard_pairs.map(process_jaccard_pair).filter(lambda x: x is not None).collect()\n",
        "end_time = time.time()\n",
        "results[\"algorithms\"].append(algo_name)\n",
        "results[\"times\"].append(end_time - start_time)\n",
        "results[\"num_pairs\"].append(len(similar_jaccard_pairs))\n",
        "print(f\"{algo_name} found {len(similar_jaccard_pairs)} pairs in {end_time - start_time:.2f}s.\")\n",
        "\n",
        "# 2. Cartesian Cosine Similarity (with TF-IDF)\n",
        "print(\"\\nRunning Cartesian Cosine Similarity (TF-IDF)...\")\n",
        "algo_name = \"Cartesian Cosine (TF-IDF)\"\n",
        "start_time = time.time()\n",
        "\n",
        "# IDF Model Calculation\n",
        "idf_model_sample_df = df_full.limit(N_idf_sample)\n",
        "processed_idf_rdd = idf_model_sample_df.rdd.map(lambda row: preprocess_review_text(row[review_column_name]))\n",
        "processed_idf_rdd.cache()\n",
        "num_docs_for_idf = processed_idf_rdd.count()\n",
        "\n",
        "idf_map_val = calculate_idf(processed_idf_rdd, num_docs_for_idf)\n",
        "broadcast_idf = sc.broadcast(idf_map_val)\n",
        "processed_idf_rdd.unpersist()\n",
        "print(f\"IDF map calculated for {len(idf_map_val)} terms from {num_docs_for_idf} docs.\")\n",
        "\n",
        "# TF-IDF vectors for the comparison sample\n",
        "tfidf_input_rdd = comparison_sample_docs_with_id_rdd.mapValues(\n",
        "    lambda x: (x[0], get_tfidf_vector(x[1], broadcast_idf))\n",
        ")\n",
        "\n",
        "cartesian_cosine_pairs = tfidf_input_rdd.cartesian(tfidf_input_rdd)\n",
        "\n",
        "def process_cosine_pair(pair_data):\n",
        "    (idx1, (orig_id1, vec1)), (idx2, (orig_id2, vec2)) = pair_data\n",
        "    if idx1 < idx2:\n",
        "        sim = cosine_similarity(vec1, vec2)\n",
        "        if sim >= cosine_threshold:\n",
        "            return ((orig_id1, orig_id2), sim)\n",
        "    return None\n",
        "\n",
        "similar_cosine_pairs = cartesian_cosine_pairs.map(process_cosine_pair).filter(lambda x: x is not None).collect()\n",
        "broadcast_idf.destroy()\n",
        "end_time = time.time()\n",
        "results[\"algorithms\"].append(algo_name)\n",
        "results[\"times\"].append(end_time - start_time)\n",
        "results[\"num_pairs\"].append(len(similar_cosine_pairs))\n",
        "print(f\"{algo_name} found {len(similar_cosine_pairs)} pairs in {end_time - start_time:.2f}s.\")\n",
        "\n",
        "# 3. MinHashLSH for Jaccard\n",
        "print(\"\\nRunning MinHashLSH for Jaccard...\")\n",
        "algo_name = \"MinHashLSH (Jaccard)\"\n",
        "start_time = time.time()\n",
        "\n",
        "# Build vocabulary from the comparison sample\n",
        "lsh_vocab_list = comparison_sample_docs_with_id_rdd.flatMap(lambda x: x[1][1]).distinct().collect()\n",
        "lsh_vocab_map = {word: i for i, word in enumerate(lsh_vocab_list)}\n",
        "lsh_vocab_size = len(lsh_vocab_map)\n",
        "\n",
        "def tokens_to_sparse_vector_lsh(doc_id_tokens_tuple, vocab_map_local, vocab_size_local):\n",
        "    doc_id, tokens = doc_id_tokens_tuple # Correctly unpack the tuple\n",
        "    indices = sorted([vocab_map_local[token] for token in set(tokens) if token in vocab_map_local])\n",
        "    values = [1.0] * len(indices)\n",
        "    return Row(Id=doc_id, features=Vectors.sparse(vocab_size_local, indices, values))\n",
        "\n",
        "# Pass the (original_id, tokens) tuple to the function\n",
        "lsh_vectorized_rdd = comparison_sample_docs_with_id_rdd.map(\n",
        "    lambda x: tokens_to_sparse_vector_lsh(x[1], lsh_vocab_map, lsh_vocab_size)\n",
        ")\n",
        "lsh_vectorized_df = spark.createDataFrame(lsh_vectorized_rdd)\n",
        "\n",
        "mh_lsh = MinHashLSH(inputCol=\"features\", outputCol=\"hashes\", numHashTables=10, seed=42) # Increased numHashTables\n",
        "lsh_model = mh_lsh.fit(lsh_vectorized_df)\n",
        "lsh_transformed_df = lsh_model.transform(lsh_vectorized_df)\n",
        "\n",
        "lsh_similar_pairs = lsh_model.approxSimilarityJoin(lsh_transformed_df, lsh_transformed_df,\n",
        "                                                  threshold=lsh_jaccard_distance_threshold, distCol=\"JaccardDistance\")\n",
        "lsh_results_df = lsh_similar_pairs.select(\n",
        "    col(\"datasetA.Id\").alias(\"IdA\"),\n",
        "    col(\"datasetB.Id\").alias(\"IdB\"),\n",
        "    col(\"JaccardDistance\")\n",
        ").filter(col(\"IdA\") < col(\"IdB\"))\n",
        "\n",
        "lsh_collected_pairs = lsh_results_df.collect()\n",
        "end_time = time.time()\n",
        "results[\"algorithms\"].append(algo_name)\n",
        "results[\"times\"].append(end_time - start_time)\n",
        "results[\"num_pairs\"].append(len(lsh_collected_pairs))\n",
        "print(f\"{algo_name} found {len(lsh_collected_pairs)} pairs in {end_time - start_time:.2f}s.\")\n",
        "\n",
        "# Display results\n",
        "print(\"\\n\" + \"=\"*50)\n",
        "print(\"ALGORITHM COMPARISON RESULTS (Refined)\")\n",
        "print(\"=\"*50)\n",
        "for i, algo in enumerate(results[\"algorithms\"]):\n",
        "    print(f\"{algo}:\")\n",
        "    print(f\"  Time: {results['times'][i]:.2f} seconds\")\n",
        "    print(f\"  Similar pairs found: {results['num_pairs'][i]}\")\n",
        "    print()\n",
        "\n",
        "# Cleanup\n",
        "comparison_sample_docs_with_id_rdd.unpersist()\n",
        "comparison_sample_df.unpersist()\n",
        "# df_full.unpersist() # Keep df_full cached for potential future steps\n",
        "\n",
        "print(\"\\nComparison completed!\")\n",
        "print(\"\\nNote: MinHashLSH is an approximate algorithm, so results may vary slightly from exact methods.\")"
      ],
      "execution_count": 22,
      "outputs": [
        {
          "output_type": "stream",
          "name": "stdout",
          "text": [
            "Loading full dataset for comparison...\n",
            "\n",
            "Preparing sample of 1000 reviews for comparisons...\n",
            "\n",
            "Running Cartesian Jaccard Similarity...\n",
            "Cartesian Jaccard found 16 pairs in 5.24s.\n",
            "\n",
            "Running Cartesian Cosine Similarity (TF-IDF)...\n",
            "IDF map calculated for 21205 terms from 2000 docs.\n",
            "Cartesian Cosine (TF-IDF) found 16 pairs in 18.56s.\n",
            "\n",
            "Running MinHashLSH for Jaccard...\n",
            "MinHashLSH (Jaccard) found 0 pairs in 8.77s.\n",
            "\n",
            "==================================================\n",
            "ALGORITHM COMPARISON RESULTS (Refined)\n",
            "==================================================\n",
            "Cartesian Jaccard:\n",
            "  Time: 5.24 seconds\n",
            "  Similar pairs found: 16\n",
            "\n",
            "Cartesian Cosine (TF-IDF):\n",
            "  Time: 18.56 seconds\n",
            "  Similar pairs found: 16\n",
            "\n",
            "MinHashLSH (Jaccard):\n",
            "  Time: 8.77 seconds\n",
            "  Similar pairs found: 0\n",
            "\n",
            "\n",
            "Comparison completed!\n",
            "\n",
            "Note: MinHashLSH is an approximate algorithm, so results may vary slightly from exact methods.\n"
          ]
        }
      ]
    },
    {
      "cell_type": "markdown",
      "metadata": {
        "id": "a3e1b007"
      },
      "source": [
        "**Reasoning**:\n",
        "Refine the visualization code to clearly show the performance differences based on the refined comparison results, including updated bar charts and potentially more informative histograms if enough pairs were found.\n",
        "\n"
      ]
    },
    {
      "cell_type": "markdown",
      "metadata": {
        "id": "a3e869ca"
      },
      "source": [
        "**Reasoning**:\n",
        "Add markdown explanations to interpret the refined results and visualizations, discussing the performance differences and reinforcing the conclusions about LSH's scalability.\n",
        "\n"
      ]
    }
  ],
  "metadata": {
    "kernelspec": {
      "display_name": "Python 3",
      "language": "python",
      "name": "python3"
    },
    "language_info": {
      "name": "python",
      "version": "3.8"
    },
    "colab": {
      "provenance": [],
      "include_colab_link": true
    }
  },
  "nbformat": 4,
  "nbformat_minor": 0
}